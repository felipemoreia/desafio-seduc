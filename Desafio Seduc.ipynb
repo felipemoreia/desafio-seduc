{
 "cells": [
  {
   "cell_type": "markdown",
   "metadata": {},
   "source": [
    "### Fazendo Imports de Bibliotecas"
   ]
  },
  {
   "cell_type": "code",
   "execution_count": 1,
   "metadata": {},
   "outputs": [],
   "source": [
    "import pandas as pd\n",
    "import numpy as np\n",
    "import matplotlib as plt\n",
    "import seaborn as sns\n",
    "import scipy.stats as sp\n",
    "from sklearn.ensemble import ExtraTreesClassifier"
   ]
  },
  {
   "cell_type": "markdown",
   "metadata": {},
   "source": [
    "## Trabalhando com o dataset de notas Saresp"
   ]
  },
  {
   "cell_type": "code",
   "execution_count": 2,
   "metadata": {},
   "outputs": [],
   "source": [
    "df11 = pd.read_csv('SARESP_escolas_2011.csv', sep=';')\n",
    "df12 = pd.read_csv('SARESP_escolas_2012.csv', sep=';')\n",
    "df13 = pd.read_csv('SARESP_escolas_2013_0.csv', sep=';')\n",
    "df14 = pd.read_csv('SARESP_escolas_2014.csv', sep=';')\n",
    "df15 = pd.read_csv('SARESP_escolas_2015.csv', sep=';')\n",
    "df16 = pd.read_csv('SARESP_escolas_2016.csv', sep=';')\n",
    "df17 = pd.read_csv('SARESP_escolas_2017.csv', sep=';')\n",
    "df18 = pd.read_csv('SARESP_escolas_2018.csv', sep=';', encoding='latin1')"
   ]
  },
  {
   "cell_type": "code",
   "execution_count": 3,
   "metadata": {},
   "outputs": [],
   "source": [
    "frames = [df11, df12, df13, df14, df15, df16, df17, df18]"
   ]
  },
  {
   "cell_type": "code",
   "execution_count": 4,
   "metadata": {},
   "outputs": [],
   "source": [
    "df11_18 = pd.concat(frames, sort=False)"
   ]
  },
  {
   "cell_type": "code",
   "execution_count": 5,
   "metadata": {},
   "outputs": [],
   "source": [
    "df11_18['medprof'] = df11_18['medprof'].str.replace(',', '.')"
   ]
  },
  {
   "cell_type": "code",
   "execution_count": 6,
   "metadata": {},
   "outputs": [],
   "source": [
    "df11_18['medprof'] = df11_18['medprof'].astype('float16')"
   ]
  },
  {
   "cell_type": "code",
   "execution_count": 7,
   "metadata": {},
   "outputs": [
    {
     "data": {
      "text/plain": [
       "EM-3ª série    0.340740\n",
       "9º Ano EF      0.308076\n",
       "7º Ano EF      0.198748\n",
       "5º Ano EF      0.096597\n",
       "3º Ano EF      0.055839\n",
       "Name: SERIE_ANO, dtype: float64"
      ]
     },
     "execution_count": 7,
     "metadata": {},
     "output_type": "execute_result"
    }
   ],
   "source": [
    "df11_18['SERIE_ANO'].value_counts(normalize=True)"
   ]
  },
  {
   "cell_type": "code",
   "execution_count": 8,
   "metadata": {
    "scrolled": true
   },
   "outputs": [],
   "source": [
    "df11_18_emedio = df11_18[df11_18['SERIE_ANO']=='EM-3ª série']"
   ]
  },
  {
   "cell_type": "code",
   "execution_count": 9,
   "metadata": {},
   "outputs": [],
   "source": [
    "df11_18_efundamental = df11_18[(df11_18['SERIE_ANO']=='9º Ano EF ') | (df11_18['SERIE_ANO']=='7º Ano EF') | (df11_18['SERIE_ANO']=='5º Ano EF')]"
   ]
  },
  {
   "cell_type": "code",
   "execution_count": 10,
   "metadata": {},
   "outputs": [],
   "source": [
    "notatuse = ['DEPADM', 'DepBol', 'NomeDepBol', 'NOMESC', 'SERIE_ANO','cod_per', 'periodo', 'co_comp', 'codRMet']"
   ]
  },
  {
   "cell_type": "code",
   "execution_count": 11,
   "metadata": {},
   "outputs": [
    {
     "name": "stderr",
     "output_type": "stream",
     "text": [
      "C:\\Users\\epfel\\Anaconda3\\lib\\site-packages\\pandas\\core\\frame.py:4102: SettingWithCopyWarning: \n",
      "A value is trying to be set on a copy of a slice from a DataFrame\n",
      "\n",
      "See the caveats in the documentation: http://pandas.pydata.org/pandas-docs/stable/user_guide/indexing.html#returning-a-view-versus-a-copy\n",
      "  errors=errors,\n"
     ]
    }
   ],
   "source": [
    "df11_18_emedio.drop(notatuse, axis=1, inplace=True)"
   ]
  },
  {
   "cell_type": "code",
   "execution_count": 12,
   "metadata": {},
   "outputs": [],
   "source": [
    "df11_18_efundamental.drop(notatuse, axis=1, inplace=True)"
   ]
  },
  {
   "cell_type": "code",
   "execution_count": 13,
   "metadata": {},
   "outputs": [
    {
     "data": {
      "text/plain": [
       "MATEMÁTICA           0.356287\n",
       "LÍNGUA PORTUGUESA    0.356287\n",
       "CIÊNCIAS             0.096069\n",
       "GEOGRAFIA            0.095679\n",
       "HISTÓRIA             0.095679\n",
       "Name: ds_comp, dtype: float64"
      ]
     },
     "execution_count": 13,
     "metadata": {},
     "output_type": "execute_result"
    }
   ],
   "source": [
    "df11_18_emedio['ds_comp'].value_counts(normalize=True)"
   ]
  },
  {
   "cell_type": "code",
   "execution_count": 14,
   "metadata": {},
   "outputs": [],
   "source": [
    "df_medio_mat  = df11_18_emedio[df11_18_emedio['ds_comp']=='MATEMÁTICA']\n",
    "df_medio_port = df11_18_emedio[df11_18_emedio['ds_comp']=='LÍNGUA PORTUGUESA']\n",
    "df_fund_mat = df11_18_efundamental[df11_18_efundamental['ds_comp']=='MATEMÁTICA']\n",
    "df_fund_port = df11_18_efundamental[df11_18_efundamental['ds_comp']=='LÍNGUA PORTUGUESA']"
   ]
  },
  {
   "cell_type": "code",
   "execution_count": 15,
   "metadata": {},
   "outputs": [],
   "source": [
    "df_medio_mat = pd.DataFrame(df_medio_mat.groupby('CODESC')['medprof'].mean())\n",
    "df_medio_port = pd.DataFrame(df_medio_port.groupby('CODESC')['medprof'].mean())\n",
    "df_medio_geral = pd.DataFrame(df11_18_emedio.groupby('CODESC')['medprof'].mean())\n",
    "df_fund_mat = pd.DataFrame(df_fund_mat.groupby('CODESC')['medprof'].mean())\n",
    "df_fund_port = pd.DataFrame(df_fund_port.groupby('CODESC')['medprof'].mean())\n",
    "df_fund_geral = pd.DataFrame(df11_18_efundamental.groupby('CODESC')['medprof'].mean())"
   ]
  },
  {
   "cell_type": "code",
   "execution_count": 16,
   "metadata": {},
   "outputs": [
    {
     "data": {
      "text/html": [
       "<div>\n",
       "<style scoped>\n",
       "    .dataframe tbody tr th:only-of-type {\n",
       "        vertical-align: middle;\n",
       "    }\n",
       "\n",
       "    .dataframe tbody tr th {\n",
       "        vertical-align: top;\n",
       "    }\n",
       "\n",
       "    .dataframe thead th {\n",
       "        text-align: right;\n",
       "    }\n",
       "</style>\n",
       "<table border=\"1\" class=\"dataframe\">\n",
       "  <thead>\n",
       "    <tr style=\"text-align: right;\">\n",
       "      <th></th>\n",
       "      <th>medprof</th>\n",
       "    </tr>\n",
       "  </thead>\n",
       "  <tbody>\n",
       "    <tr>\n",
       "      <td>count</td>\n",
       "      <td>3817.000000</td>\n",
       "    </tr>\n",
       "    <tr>\n",
       "      <td>mean</td>\n",
       "      <td>inf</td>\n",
       "    </tr>\n",
       "    <tr>\n",
       "      <td>std</td>\n",
       "      <td>13.132812</td>\n",
       "    </tr>\n",
       "    <tr>\n",
       "      <td>min</td>\n",
       "      <td>235.375000</td>\n",
       "    </tr>\n",
       "    <tr>\n",
       "      <td>25%</td>\n",
       "      <td>265.500000</td>\n",
       "    </tr>\n",
       "    <tr>\n",
       "      <td>50%</td>\n",
       "      <td>274.000000</td>\n",
       "    </tr>\n",
       "    <tr>\n",
       "      <td>75%</td>\n",
       "      <td>282.500000</td>\n",
       "    </tr>\n",
       "    <tr>\n",
       "      <td>max</td>\n",
       "      <td>368.500000</td>\n",
       "    </tr>\n",
       "  </tbody>\n",
       "</table>\n",
       "</div>"
      ],
      "text/plain": [
       "           medprof\n",
       "count  3817.000000\n",
       "mean           inf\n",
       "std      13.132812\n",
       "min     235.375000\n",
       "25%     265.500000\n",
       "50%     274.000000\n",
       "75%     282.500000\n",
       "max     368.500000"
      ]
     },
     "execution_count": 16,
     "metadata": {},
     "output_type": "execute_result"
    }
   ],
   "source": [
    "df_medio_mat.describe()"
   ]
  },
  {
   "cell_type": "code",
   "execution_count": 17,
   "metadata": {},
   "outputs": [],
   "source": [
    "df_medio_mat['tag_melhores_25%_mat'] = ['1' if X >= 282.500000 else '0' for X in df_medio_mat['medprof']]"
   ]
  },
  {
   "cell_type": "code",
   "execution_count": 18,
   "metadata": {},
   "outputs": [
    {
     "data": {
      "text/html": [
       "<div>\n",
       "<style scoped>\n",
       "    .dataframe tbody tr th:only-of-type {\n",
       "        vertical-align: middle;\n",
       "    }\n",
       "\n",
       "    .dataframe tbody tr th {\n",
       "        vertical-align: top;\n",
       "    }\n",
       "\n",
       "    .dataframe thead th {\n",
       "        text-align: right;\n",
       "    }\n",
       "</style>\n",
       "<table border=\"1\" class=\"dataframe\">\n",
       "  <thead>\n",
       "    <tr style=\"text-align: right;\">\n",
       "      <th></th>\n",
       "      <th>medprof</th>\n",
       "    </tr>\n",
       "  </thead>\n",
       "  <tbody>\n",
       "    <tr>\n",
       "      <td>count</td>\n",
       "      <td>3817.000000</td>\n",
       "    </tr>\n",
       "    <tr>\n",
       "      <td>mean</td>\n",
       "      <td>inf</td>\n",
       "    </tr>\n",
       "    <tr>\n",
       "      <td>std</td>\n",
       "      <td>12.265625</td>\n",
       "    </tr>\n",
       "    <tr>\n",
       "      <td>min</td>\n",
       "      <td>220.375000</td>\n",
       "    </tr>\n",
       "    <tr>\n",
       "      <td>25%</td>\n",
       "      <td>260.750000</td>\n",
       "    </tr>\n",
       "    <tr>\n",
       "      <td>50%</td>\n",
       "      <td>269.000000</td>\n",
       "    </tr>\n",
       "    <tr>\n",
       "      <td>75%</td>\n",
       "      <td>276.500000</td>\n",
       "    </tr>\n",
       "    <tr>\n",
       "      <td>max</td>\n",
       "      <td>321.500000</td>\n",
       "    </tr>\n",
       "  </tbody>\n",
       "</table>\n",
       "</div>"
      ],
      "text/plain": [
       "           medprof\n",
       "count  3817.000000\n",
       "mean           inf\n",
       "std      12.265625\n",
       "min     220.375000\n",
       "25%     260.750000\n",
       "50%     269.000000\n",
       "75%     276.500000\n",
       "max     321.500000"
      ]
     },
     "execution_count": 18,
     "metadata": {},
     "output_type": "execute_result"
    }
   ],
   "source": [
    "df_medio_port.describe()"
   ]
  },
  {
   "cell_type": "code",
   "execution_count": 19,
   "metadata": {},
   "outputs": [],
   "source": [
    "df_medio_port['tag_melhores_25%_port'] = ['1' if X >= 276.500000 else '0' for X in df_medio_port['medprof']]"
   ]
  },
  {
   "cell_type": "code",
   "execution_count": 20,
   "metadata": {},
   "outputs": [
    {
     "data": {
      "text/html": [
       "<div>\n",
       "<style scoped>\n",
       "    .dataframe tbody tr th:only-of-type {\n",
       "        vertical-align: middle;\n",
       "    }\n",
       "\n",
       "    .dataframe tbody tr th {\n",
       "        vertical-align: top;\n",
       "    }\n",
       "\n",
       "    .dataframe thead th {\n",
       "        text-align: right;\n",
       "    }\n",
       "</style>\n",
       "<table border=\"1\" class=\"dataframe\">\n",
       "  <thead>\n",
       "    <tr style=\"text-align: right;\">\n",
       "      <th></th>\n",
       "      <th>medprof</th>\n",
       "    </tr>\n",
       "  </thead>\n",
       "  <tbody>\n",
       "    <tr>\n",
       "      <td>count</td>\n",
       "      <td>4780.000000</td>\n",
       "    </tr>\n",
       "    <tr>\n",
       "      <td>mean</td>\n",
       "      <td>inf</td>\n",
       "    </tr>\n",
       "    <tr>\n",
       "      <td>std</td>\n",
       "      <td>14.117188</td>\n",
       "    </tr>\n",
       "    <tr>\n",
       "      <td>min</td>\n",
       "      <td>120.500000</td>\n",
       "    </tr>\n",
       "    <tr>\n",
       "      <td>25%</td>\n",
       "      <td>208.750000</td>\n",
       "    </tr>\n",
       "    <tr>\n",
       "      <td>50%</td>\n",
       "      <td>217.500000</td>\n",
       "    </tr>\n",
       "    <tr>\n",
       "      <td>75%</td>\n",
       "      <td>227.000000</td>\n",
       "    </tr>\n",
       "    <tr>\n",
       "      <td>max</td>\n",
       "      <td>278.000000</td>\n",
       "    </tr>\n",
       "  </tbody>\n",
       "</table>\n",
       "</div>"
      ],
      "text/plain": [
       "           medprof\n",
       "count  4780.000000\n",
       "mean           inf\n",
       "std      14.117188\n",
       "min     120.500000\n",
       "25%     208.750000\n",
       "50%     217.500000\n",
       "75%     227.000000\n",
       "max     278.000000"
      ]
     },
     "execution_count": 20,
     "metadata": {},
     "output_type": "execute_result"
    }
   ],
   "source": [
    "df_fund_mat.describe()"
   ]
  },
  {
   "cell_type": "code",
   "execution_count": 21,
   "metadata": {},
   "outputs": [],
   "source": [
    "df_fund_mat['tag_melhores_25%_mat'] = ['1' if X >= 227.000000 else '0' for X in df_fund_mat['medprof']]"
   ]
  },
  {
   "cell_type": "code",
   "execution_count": 22,
   "metadata": {},
   "outputs": [
    {
     "data": {
      "text/html": [
       "<div>\n",
       "<style scoped>\n",
       "    .dataframe tbody tr th:only-of-type {\n",
       "        vertical-align: middle;\n",
       "    }\n",
       "\n",
       "    .dataframe tbody tr th {\n",
       "        vertical-align: top;\n",
       "    }\n",
       "\n",
       "    .dataframe thead th {\n",
       "        text-align: right;\n",
       "    }\n",
       "</style>\n",
       "<table border=\"1\" class=\"dataframe\">\n",
       "  <thead>\n",
       "    <tr style=\"text-align: right;\">\n",
       "      <th></th>\n",
       "      <th>medprof</th>\n",
       "    </tr>\n",
       "  </thead>\n",
       "  <tbody>\n",
       "    <tr>\n",
       "      <td>count</td>\n",
       "      <td>4780.000000</td>\n",
       "    </tr>\n",
       "    <tr>\n",
       "      <td>mean</td>\n",
       "      <td>inf</td>\n",
       "    </tr>\n",
       "    <tr>\n",
       "      <td>std</td>\n",
       "      <td>12.695312</td>\n",
       "    </tr>\n",
       "    <tr>\n",
       "      <td>min</td>\n",
       "      <td>122.625000</td>\n",
       "    </tr>\n",
       "    <tr>\n",
       "      <td>25%</td>\n",
       "      <td>201.718750</td>\n",
       "    </tr>\n",
       "    <tr>\n",
       "      <td>50%</td>\n",
       "      <td>210.000000</td>\n",
       "    </tr>\n",
       "    <tr>\n",
       "      <td>75%</td>\n",
       "      <td>218.500000</td>\n",
       "    </tr>\n",
       "    <tr>\n",
       "      <td>max</td>\n",
       "      <td>268.250000</td>\n",
       "    </tr>\n",
       "  </tbody>\n",
       "</table>\n",
       "</div>"
      ],
      "text/plain": [
       "           medprof\n",
       "count  4780.000000\n",
       "mean           inf\n",
       "std      12.695312\n",
       "min     122.625000\n",
       "25%     201.718750\n",
       "50%     210.000000\n",
       "75%     218.500000\n",
       "max     268.250000"
      ]
     },
     "execution_count": 22,
     "metadata": {},
     "output_type": "execute_result"
    }
   ],
   "source": [
    "df_fund_port.describe()"
   ]
  },
  {
   "cell_type": "code",
   "execution_count": 23,
   "metadata": {},
   "outputs": [],
   "source": [
    "df_fund_port['tag_melhores_25%_port'] = ['1' if X >= 218.500000 else '0' for X in df_fund_port['medprof']]"
   ]
  },
  {
   "cell_type": "code",
   "execution_count": 24,
   "metadata": {},
   "outputs": [
    {
     "data": {
      "text/html": [
       "<div>\n",
       "<style scoped>\n",
       "    .dataframe tbody tr th:only-of-type {\n",
       "        vertical-align: middle;\n",
       "    }\n",
       "\n",
       "    .dataframe tbody tr th {\n",
       "        vertical-align: top;\n",
       "    }\n",
       "\n",
       "    .dataframe thead th {\n",
       "        text-align: right;\n",
       "    }\n",
       "</style>\n",
       "<table border=\"1\" class=\"dataframe\">\n",
       "  <thead>\n",
       "    <tr style=\"text-align: right;\">\n",
       "      <th></th>\n",
       "      <th>medprof</th>\n",
       "    </tr>\n",
       "  </thead>\n",
       "  <tbody>\n",
       "    <tr>\n",
       "      <td>count</td>\n",
       "      <td>3817.000000</td>\n",
       "    </tr>\n",
       "    <tr>\n",
       "      <td>mean</td>\n",
       "      <td>inf</td>\n",
       "    </tr>\n",
       "    <tr>\n",
       "      <td>std</td>\n",
       "      <td>12.335938</td>\n",
       "    </tr>\n",
       "    <tr>\n",
       "      <td>min</td>\n",
       "      <td>233.750000</td>\n",
       "    </tr>\n",
       "    <tr>\n",
       "      <td>25%</td>\n",
       "      <td>263.750000</td>\n",
       "    </tr>\n",
       "    <tr>\n",
       "      <td>50%</td>\n",
       "      <td>272.000000</td>\n",
       "    </tr>\n",
       "    <tr>\n",
       "      <td>75%</td>\n",
       "      <td>280.250000</td>\n",
       "    </tr>\n",
       "    <tr>\n",
       "      <td>max</td>\n",
       "      <td>337.250000</td>\n",
       "    </tr>\n",
       "  </tbody>\n",
       "</table>\n",
       "</div>"
      ],
      "text/plain": [
       "           medprof\n",
       "count  3817.000000\n",
       "mean           inf\n",
       "std      12.335938\n",
       "min     233.750000\n",
       "25%     263.750000\n",
       "50%     272.000000\n",
       "75%     280.250000\n",
       "max     337.250000"
      ]
     },
     "execution_count": 24,
     "metadata": {},
     "output_type": "execute_result"
    }
   ],
   "source": [
    "df_medio_geral.describe()"
   ]
  },
  {
   "cell_type": "code",
   "execution_count": 25,
   "metadata": {},
   "outputs": [],
   "source": [
    "df_medio_geral['tag_melhores_25%'] = ['1' if X >= 280.250000 else '0' for X in df_medio_geral['medprof']]"
   ]
  },
  {
   "cell_type": "code",
   "execution_count": 26,
   "metadata": {},
   "outputs": [
    {
     "data": {
      "text/html": [
       "<div>\n",
       "<style scoped>\n",
       "    .dataframe tbody tr th:only-of-type {\n",
       "        vertical-align: middle;\n",
       "    }\n",
       "\n",
       "    .dataframe tbody tr th {\n",
       "        vertical-align: top;\n",
       "    }\n",
       "\n",
       "    .dataframe thead th {\n",
       "        text-align: right;\n",
       "    }\n",
       "</style>\n",
       "<table border=\"1\" class=\"dataframe\">\n",
       "  <thead>\n",
       "    <tr style=\"text-align: right;\">\n",
       "      <th></th>\n",
       "      <th>medprof</th>\n",
       "    </tr>\n",
       "  </thead>\n",
       "  <tbody>\n",
       "    <tr>\n",
       "      <td>count</td>\n",
       "      <td>4780.000000</td>\n",
       "    </tr>\n",
       "    <tr>\n",
       "      <td>mean</td>\n",
       "      <td>inf</td>\n",
       "    </tr>\n",
       "    <tr>\n",
       "      <td>std</td>\n",
       "      <td>13.289062</td>\n",
       "    </tr>\n",
       "    <tr>\n",
       "      <td>min</td>\n",
       "      <td>138.250000</td>\n",
       "    </tr>\n",
       "    <tr>\n",
       "      <td>25%</td>\n",
       "      <td>209.500000</td>\n",
       "    </tr>\n",
       "    <tr>\n",
       "      <td>50%</td>\n",
       "      <td>218.500000</td>\n",
       "    </tr>\n",
       "    <tr>\n",
       "      <td>75%</td>\n",
       "      <td>227.375000</td>\n",
       "    </tr>\n",
       "    <tr>\n",
       "      <td>max</td>\n",
       "      <td>270.250000</td>\n",
       "    </tr>\n",
       "  </tbody>\n",
       "</table>\n",
       "</div>"
      ],
      "text/plain": [
       "           medprof\n",
       "count  4780.000000\n",
       "mean           inf\n",
       "std      13.289062\n",
       "min     138.250000\n",
       "25%     209.500000\n",
       "50%     218.500000\n",
       "75%     227.375000\n",
       "max     270.250000"
      ]
     },
     "execution_count": 26,
     "metadata": {},
     "output_type": "execute_result"
    }
   ],
   "source": [
    "df_fund_geral.describe()"
   ]
  },
  {
   "cell_type": "code",
   "execution_count": 27,
   "metadata": {},
   "outputs": [],
   "source": [
    "df_fund_geral['tag_resposta'] = ['1' if X >= 227.375000 else '0' for X in df_fund_geral['medprof']]"
   ]
  },
  {
   "cell_type": "code",
   "execution_count": 28,
   "metadata": {},
   "outputs": [],
   "source": [
    "df_medio_geral = pd.merge(df_medio_geral, df_medio_port,left_index=True, right_index=True, how='outer')"
   ]
  },
  {
   "cell_type": "code",
   "execution_count": 29,
   "metadata": {},
   "outputs": [],
   "source": [
    "df_medio_geral = pd.merge(df_medio_geral, df_medio_mat,left_index=True, right_index=True, how='outer')"
   ]
  },
  {
   "cell_type": "code",
   "execution_count": 30,
   "metadata": {},
   "outputs": [],
   "source": [
    "df_medio_geral.columns = ['Média_SARESP_geral', 'tag_melhores_25%', 'Média_SARESP_port', 'tag_melhores_25%_port', 'Média_SARESP_mat', 'tag_melhores_25%_mat']"
   ]
  },
  {
   "cell_type": "code",
   "execution_count": 31,
   "metadata": {},
   "outputs": [
    {
     "data": {
      "text/html": [
       "<div>\n",
       "<style scoped>\n",
       "    .dataframe tbody tr th:only-of-type {\n",
       "        vertical-align: middle;\n",
       "    }\n",
       "\n",
       "    .dataframe tbody tr th {\n",
       "        vertical-align: top;\n",
       "    }\n",
       "\n",
       "    .dataframe thead th {\n",
       "        text-align: right;\n",
       "    }\n",
       "</style>\n",
       "<table border=\"1\" class=\"dataframe\">\n",
       "  <thead>\n",
       "    <tr style=\"text-align: right;\">\n",
       "      <th></th>\n",
       "      <th>Média_SARESP_geral</th>\n",
       "      <th>Média_SARESP_port</th>\n",
       "      <th>Média_SARESP_mat</th>\n",
       "    </tr>\n",
       "  </thead>\n",
       "  <tbody>\n",
       "    <tr>\n",
       "      <td>Média_SARESP_geral</td>\n",
       "      <td>1.000000</td>\n",
       "      <td>0.965485</td>\n",
       "      <td>0.962220</td>\n",
       "    </tr>\n",
       "    <tr>\n",
       "      <td>Média_SARESP_port</td>\n",
       "      <td>0.965485</td>\n",
       "      <td>1.000000</td>\n",
       "      <td>0.896611</td>\n",
       "    </tr>\n",
       "    <tr>\n",
       "      <td>Média_SARESP_mat</td>\n",
       "      <td>0.962220</td>\n",
       "      <td>0.896611</td>\n",
       "      <td>1.000000</td>\n",
       "    </tr>\n",
       "  </tbody>\n",
       "</table>\n",
       "</div>"
      ],
      "text/plain": [
       "                    Média_SARESP_geral  Média_SARESP_port  Média_SARESP_mat\n",
       "Média_SARESP_geral            1.000000           0.965485          0.962220\n",
       "Média_SARESP_port             0.965485           1.000000          0.896611\n",
       "Média_SARESP_mat              0.962220           0.896611          1.000000"
      ]
     },
     "execution_count": 31,
     "metadata": {},
     "output_type": "execute_result"
    }
   ],
   "source": [
    "df_medio_geral.corr()"
   ]
  },
  {
   "cell_type": "code",
   "execution_count": 32,
   "metadata": {},
   "outputs": [
    {
     "data": {
      "text/plain": [
       "0.877652606759235"
      ]
     },
     "execution_count": 32,
     "metadata": {},
     "output_type": "execute_result"
    }
   ],
   "source": [
    "((df_medio_geral['tag_melhores_25%_port']==df_medio_geral['tag_melhores_25%_mat']).sum())/df_medio_geral.shape[0]"
   ]
  },
  {
   "cell_type": "code",
   "execution_count": 33,
   "metadata": {},
   "outputs": [],
   "source": [
    "df_fund_geral = pd.merge(df_fund_geral, df_fund_port,left_index=True, right_index=True, how='outer')"
   ]
  },
  {
   "cell_type": "code",
   "execution_count": 34,
   "metadata": {},
   "outputs": [],
   "source": [
    "df_fund_geral = pd.merge(df_fund_geral, df_fund_mat,left_index=True, right_index=True, how='outer')"
   ]
  },
  {
   "cell_type": "code",
   "execution_count": 35,
   "metadata": {},
   "outputs": [],
   "source": [
    "df_fund_geral.columns = ['Média_SARESP_geral', 'tag_melhores_25%', 'Média_SARESP_port', 'tag_melhores_25%_port', 'Média_SARESP_mat', 'tag_melhores_25%_mat']"
   ]
  },
  {
   "cell_type": "code",
   "execution_count": 36,
   "metadata": {},
   "outputs": [
    {
     "data": {
      "text/html": [
       "<div>\n",
       "<style scoped>\n",
       "    .dataframe tbody tr th:only-of-type {\n",
       "        vertical-align: middle;\n",
       "    }\n",
       "\n",
       "    .dataframe tbody tr th {\n",
       "        vertical-align: top;\n",
       "    }\n",
       "\n",
       "    .dataframe thead th {\n",
       "        text-align: right;\n",
       "    }\n",
       "</style>\n",
       "<table border=\"1\" class=\"dataframe\">\n",
       "  <thead>\n",
       "    <tr style=\"text-align: right;\">\n",
       "      <th></th>\n",
       "      <th>Média_SARESP_geral</th>\n",
       "      <th>Média_SARESP_port</th>\n",
       "      <th>Média_SARESP_mat</th>\n",
       "    </tr>\n",
       "  </thead>\n",
       "  <tbody>\n",
       "    <tr>\n",
       "      <td>Média_SARESP_geral</td>\n",
       "      <td>1.000000</td>\n",
       "      <td>0.964066</td>\n",
       "      <td>0.940324</td>\n",
       "    </tr>\n",
       "    <tr>\n",
       "      <td>Média_SARESP_port</td>\n",
       "      <td>0.964066</td>\n",
       "      <td>1.000000</td>\n",
       "      <td>0.911619</td>\n",
       "    </tr>\n",
       "    <tr>\n",
       "      <td>Média_SARESP_mat</td>\n",
       "      <td>0.940324</td>\n",
       "      <td>0.911619</td>\n",
       "      <td>1.000000</td>\n",
       "    </tr>\n",
       "  </tbody>\n",
       "</table>\n",
       "</div>"
      ],
      "text/plain": [
       "                    Média_SARESP_geral  Média_SARESP_port  Média_SARESP_mat\n",
       "Média_SARESP_geral            1.000000           0.964066          0.940324\n",
       "Média_SARESP_port             0.964066           1.000000          0.911619\n",
       "Média_SARESP_mat              0.940324           0.911619          1.000000"
      ]
     },
     "execution_count": 36,
     "metadata": {},
     "output_type": "execute_result"
    }
   ],
   "source": [
    "df_fund_geral.corr()"
   ]
  },
  {
   "cell_type": "code",
   "execution_count": 37,
   "metadata": {},
   "outputs": [
    {
     "data": {
      "text/plain": [
       "0.9"
      ]
     },
     "execution_count": 37,
     "metadata": {},
     "output_type": "execute_result"
    }
   ],
   "source": [
    "((df_fund_geral['tag_melhores_25%_port']==df_fund_geral['tag_melhores_25%_mat']).sum())/df_fund_geral.shape[0]"
   ]
  },
  {
   "cell_type": "code",
   "execution_count": 38,
   "metadata": {},
   "outputs": [],
   "source": [
    "variaveis_correlacionadas = ['Média_SARESP_port', 'tag_melhores_25%_port', 'Média_SARESP_mat', 'tag_melhores_25%_mat']"
   ]
  },
  {
   "cell_type": "code",
   "execution_count": 39,
   "metadata": {},
   "outputs": [],
   "source": [
    "df_medio_geral.drop(variaveis_correlacionadas, axis=1, inplace=True)"
   ]
  },
  {
   "cell_type": "code",
   "execution_count": 40,
   "metadata": {},
   "outputs": [],
   "source": [
    "df_fund_geral.drop(variaveis_correlacionadas, axis=1, inplace=True)"
   ]
  },
  {
   "cell_type": "markdown",
   "metadata": {},
   "source": [
    "## importando ausências "
   ]
  },
  {
   "cell_type": "code",
   "execution_count": 41,
   "metadata": {},
   "outputs": [],
   "source": [
    "df1 = pd.read_csv('BASE_AUSENCIAS_0419.csv', sep=';')"
   ]
  },
  {
   "cell_type": "code",
   "execution_count": 42,
   "metadata": {},
   "outputs": [],
   "source": [
    "df2 = pd.read_csv('BASE_AUSENCIAS_1118.csv', sep=';')"
   ]
  },
  {
   "cell_type": "code",
   "execution_count": 43,
   "metadata": {},
   "outputs": [],
   "source": [
    "df3 = pd.read_csv('BASE_AUSENCIAS_1119.csv', sep=';')"
   ]
  },
  {
   "cell_type": "code",
   "execution_count": 44,
   "metadata": {},
   "outputs": [],
   "source": [
    "frames = [df1, df2, df3]"
   ]
  },
  {
   "cell_type": "code",
   "execution_count": 45,
   "metadata": {},
   "outputs": [],
   "source": [
    "ausencias = pd.concat(frames, sort=False)"
   ]
  },
  {
   "cell_type": "code",
   "execution_count": 46,
   "metadata": {},
   "outputs": [],
   "source": [
    "ausencias = pd.DataFrame(ausencias.groupby('CIE_ESCOLA')['TOT_DIAS_AUSENCIAS'].mean())"
   ]
  },
  {
   "cell_type": "code",
   "execution_count": 47,
   "metadata": {},
   "outputs": [],
   "source": [
    "ausencias.drop(0, axis=0, inplace=True)"
   ]
  },
  {
   "cell_type": "code",
   "execution_count": null,
   "metadata": {},
   "outputs": [],
   "source": []
  },
  {
   "cell_type": "markdown",
   "metadata": {},
   "source": [
    "## Importando Total de Disciplinas sem Professor"
   ]
  },
  {
   "cell_type": "code",
   "execution_count": 48,
   "metadata": {},
   "outputs": [],
   "source": [
    "total_sem_prof = pd.read_csv('total.csv', sep=',')"
   ]
  },
  {
   "cell_type": "code",
   "execution_count": 49,
   "metadata": {},
   "outputs": [],
   "source": [
    "total_sem_prof = pd.DataFrame(total_sem_prof.groupby('CD_ESCOLA')['COD_DISCIPLINA'].nunique())"
   ]
  },
  {
   "cell_type": "code",
   "execution_count": 50,
   "metadata": {},
   "outputs": [],
   "source": [
    "total_sem_prof.columns = ['Num_Disc_semprof']"
   ]
  },
  {
   "cell_type": "markdown",
   "metadata": {},
   "source": [
    "## Importando Formação dos Professores"
   ]
  },
  {
   "cell_type": "code",
   "execution_count": 51,
   "metadata": {},
   "outputs": [],
   "source": [
    "df1 = pd.read_csv('BASE_FORMACAO_0419a.csv', sep=';')"
   ]
  },
  {
   "cell_type": "code",
   "execution_count": 52,
   "metadata": {},
   "outputs": [],
   "source": [
    "df2 = pd.read_csv('BASE_FORMACAO_1118.csv', sep=';', encoding='Latin-1')"
   ]
  },
  {
   "cell_type": "code",
   "execution_count": 53,
   "metadata": {},
   "outputs": [],
   "source": [
    "df3 = pd.read_csv('BASE_FORMACAO_1118.csv', sep=';', encoding='Latin-1')"
   ]
  },
  {
   "cell_type": "code",
   "execution_count": 54,
   "metadata": {},
   "outputs": [],
   "source": [
    "frames = [df1, df2, df3]"
   ]
  },
  {
   "cell_type": "code",
   "execution_count": 55,
   "metadata": {},
   "outputs": [],
   "source": [
    "formacao = pd.concat(frames, sort=False)"
   ]
  },
  {
   "cell_type": "code",
   "execution_count": 56,
   "metadata": {},
   "outputs": [],
   "source": [
    "fundamental = ['S/INFO', 'ENSINO FUNDAMENTAL']\n",
    "medio = ['ENSINO MÉDIO', 'ENSINO MÌäDIO']\n",
    "extensao = ['APERF/EXTENSÃO CULTURAL', 'APERF/EXTENSÌÄO CULTURAL']\n",
    "bacharelado_teconologico = ['BACHARELADO/TECNÓLOGO', 'BACHARELADO/TECNÌÒLOGO']\n",
    "licenciatura = ['LICENCIATURA', 'LICENCIATURA + BACHARELADO/TECNÓLOGO', 'LICENCIATURA + BACHARELADO/TECNÌÒLOGO' ]\n",
    "especializacao = ['LICENCIATURA + ESPECIALIZAÇÃO', 'LICENCIATURA + BACHARELADO/TECNÓLOGO + ESPECIALIZAÇÃO', 'BACHARELADO/TECNÓLOGO + ESPECIALIZAÇÃO', 'ESPECIALIZAÇÃO', 'LICENCIATURA + BACHARELADO/TECNÌÒLOGO + ESPECIALIZAÌàÌÄO', 'LICENCIATURA + ESPECIALIZAÌàÌÄO', 'BACHARELADO/TECNÌÒLOGO + ESPECIALIZAÌàÌÄO', 'ESPECIALIZAÌàÌÄO']\n",
    "mestrado = ['LICENCIATURA + MESTRADO', 'LICENCIATURA + ESPECIALIZAÇÃO + MESTRADO', 'LICENCIATURA + BACHARELADO/TECNÓLOGO + ESPECIALIZAÇÃO + MESTRADO', 'LICENCIATURA + BACHARELADO/TECNÓLOGO + MESTRADO', 'BACHARELADO/TECNÓLOGO + ESPECIALIZAÇÃO + MESTRADO', 'ESPECIALIZAÇÃO+MESTRADO', 'LICENCIATURA + ESPECIALIZAÌàÌÄO + MESTRADO', 'MESTRADO', 'LICENCIATURA + BACHARELADO/TECNÌÒLOGO + MESTRADO', 'LICENCIATURA + BACHARELADO/TECNÌÒLOGO + ESPECIALIZAÌàÌÄO + MESTRADO', 'BACHARELADO/TECNÌÒLOGO + MESTRADO', 'ESPECIALIZAÌàÌÄO+MESTRADO', 'BACHARELADO/TECNÌÒLOGO + ESPECIALIZAÌàÌÄO + MESTRADO']\n",
    "doutorado = ['LICENCIATURA + MESTRADO+DOUTORADO', 'LICENCIATURA + BACHARELADO/TECNÓLOGO + MESTRADO + DOUTORADO', 'LICENCIATURA + ESPECIALIZAÇÃO + MESTRADO + DOUTORADO', 'BACHARELADO/TECNÓLOGO + MESTRADO', 'LICENCIATURA + DOUTORADO', 'LICENCIATURA + BACHARELADO/TECNÓLOGO+ESPECIALIZAÇÃO + MESTRADO + DOUTORADO', 'LICENCIATURA + BACHARELADO/TECNÓLOGO + DOUTORADO', 'BACHARELADO/TECNÓLOGO + MESTRADO + DOUTORADO', 'BACHARELADO/TECNÓLOGO + DOUTORADO', 'LICENCIATURA + ESPECIALIZAÇÃO+DOUTORADO', 'LICENCIATURA + BACHARELADO/TECNÓLOGO+ESPECIALIZAÇÃO+DOUTORADO', 'LICENCIATURA + BACHARELADO/TECNÌÒLOGO + MESTRADO + DOUTORADO', 'LICENCIATURA + ESPECIALIZAÌàÌÄO + MESTRADO + DOUTORADO',  'LICENCIATURA + ESPECIALIZAÌàÌÄO+DOUTORADO', 'LICENCIATURA + BACHARELADO/TECNÌÒLOGO+ESPECIALIZAÌàÌÄO+DOUTORADO', 'BACHARELADO/TECNÌÒLOGO + MESTRADO + DOUTORADO', 'LICENCIATURA + BACHARELADO/TECNÌÒLOGO + DOUTORADO', 'LICENCIATURA + BACHARELADO/TECNÌÒLOGO+ESPECIALIZAÌàÌÄO + MESTRADO + DOUTORADO', 'BACHARELADO/TECNÌÒLOGO + DOUTORADO']"
   ]
  },
  {
   "cell_type": "code",
   "execution_count": 57,
   "metadata": {},
   "outputs": [],
   "source": [
    "lista = list(formacao['FORMACAO'])"
   ]
  },
  {
   "cell_type": "code",
   "execution_count": 58,
   "metadata": {},
   "outputs": [],
   "source": [
    "listatag = []\n",
    "y = 0\n",
    "\n",
    "for x in lista: \n",
    "    if x in fundamental:\n",
    "        y = 1\n",
    "        listatag.append(y)\n",
    "    elif x in medio:\n",
    "        y = 2\n",
    "        listatag.append(y)\n",
    "    elif x in extensao:\n",
    "        y = 3\n",
    "        listatag.append(y)\n",
    "    elif x in bacharelado_teconologico:\n",
    "        y = 4\n",
    "        listatag.append(y)\n",
    "    elif x in licenciatura:\n",
    "        y = 5\n",
    "        listatag.append(y)\n",
    "    elif x in especializacao:\n",
    "        y = 6\n",
    "        listatag.append(y)\n",
    "    elif x in mestrado:\n",
    "        y = 7\n",
    "        listatag.append(y)\n",
    "    elif x in doutorado:\n",
    "        y = 8\n",
    "        listatag.append(y)\n",
    "    else:\n",
    "        y = 0\n",
    "        listatag.append(y)"
   ]
  },
  {
   "cell_type": "code",
   "execution_count": 59,
   "metadata": {},
   "outputs": [],
   "source": [
    "formacao['tag_formacao'] =  pd.Series(listatag)"
   ]
  },
  {
   "cell_type": "code",
   "execution_count": 60,
   "metadata": {},
   "outputs": [],
   "source": [
    "formacao =  pd.DataFrame(formacao.groupby('CIE_ESCOLA')['tag_formacao'].mean())"
   ]
  },
  {
   "cell_type": "code",
   "execution_count": 61,
   "metadata": {},
   "outputs": [],
   "source": [
    "formacao.drop(0, axis=0, inplace=True)"
   ]
  },
  {
   "cell_type": "code",
   "execution_count": 62,
   "metadata": {},
   "outputs": [
    {
     "data": {
      "text/html": [
       "<div>\n",
       "<style scoped>\n",
       "    .dataframe tbody tr th:only-of-type {\n",
       "        vertical-align: middle;\n",
       "    }\n",
       "\n",
       "    .dataframe tbody tr th {\n",
       "        vertical-align: top;\n",
       "    }\n",
       "\n",
       "    .dataframe thead th {\n",
       "        text-align: right;\n",
       "    }\n",
       "</style>\n",
       "<table border=\"1\" class=\"dataframe\">\n",
       "  <thead>\n",
       "    <tr style=\"text-align: right;\">\n",
       "      <th></th>\n",
       "      <th>tag_formacao</th>\n",
       "    </tr>\n",
       "    <tr>\n",
       "      <th>CIE_ESCOLA</th>\n",
       "      <th></th>\n",
       "    </tr>\n",
       "  </thead>\n",
       "  <tbody>\n",
       "    <tr>\n",
       "      <td>12</td>\n",
       "      <td>4.727273</td>\n",
       "    </tr>\n",
       "    <tr>\n",
       "      <td>24</td>\n",
       "      <td>4.614458</td>\n",
       "    </tr>\n",
       "    <tr>\n",
       "      <td>36</td>\n",
       "      <td>4.765343</td>\n",
       "    </tr>\n",
       "    <tr>\n",
       "      <td>48</td>\n",
       "      <td>4.697436</td>\n",
       "    </tr>\n",
       "    <tr>\n",
       "      <td>59</td>\n",
       "      <td>4.671053</td>\n",
       "    </tr>\n",
       "    <tr>\n",
       "      <td>...</td>\n",
       "      <td>...</td>\n",
       "    </tr>\n",
       "    <tr>\n",
       "      <td>980171</td>\n",
       "      <td>4.712871</td>\n",
       "    </tr>\n",
       "    <tr>\n",
       "      <td>980183</td>\n",
       "      <td>4.322222</td>\n",
       "    </tr>\n",
       "    <tr>\n",
       "      <td>980195</td>\n",
       "      <td>4.796117</td>\n",
       "    </tr>\n",
       "    <tr>\n",
       "      <td>980201</td>\n",
       "      <td>4.774194</td>\n",
       "    </tr>\n",
       "    <tr>\n",
       "      <td>980213</td>\n",
       "      <td>4.663366</td>\n",
       "    </tr>\n",
       "  </tbody>\n",
       "</table>\n",
       "<p>5139 rows × 1 columns</p>\n",
       "</div>"
      ],
      "text/plain": [
       "            tag_formacao\n",
       "CIE_ESCOLA              \n",
       "12              4.727273\n",
       "24              4.614458\n",
       "36              4.765343\n",
       "48              4.697436\n",
       "59              4.671053\n",
       "...                  ...\n",
       "980171          4.712871\n",
       "980183          4.322222\n",
       "980195          4.796117\n",
       "980201          4.774194\n",
       "980213          4.663366\n",
       "\n",
       "[5139 rows x 1 columns]"
      ]
     },
     "execution_count": 62,
     "metadata": {},
     "output_type": "execute_result"
    }
   ],
   "source": [
    "formacao"
   ]
  },
  {
   "cell_type": "markdown",
   "metadata": {},
   "source": [
    "## Importando dados de Estrutura"
   ]
  },
  {
   "cell_type": "code",
   "execution_count": 63,
   "metadata": {},
   "outputs": [],
   "source": [
    "estrutura = pd.read_csv('06_Escolas_Dependencias.csv', sep=';')"
   ]
  },
  {
   "cell_type": "code",
   "execution_count": 64,
   "metadata": {},
   "outputs": [],
   "source": [
    "notusing =['NOMEDEP','DE',\n",
    " 'MUN',\n",
    " 'DISTR', 'NOMESC',\n",
    " 'TIPOESC',\n",
    " 'TIPOESC_DESC',\n",
    " 'SITUACAO',]"
   ]
  },
  {
   "cell_type": "code",
   "execution_count": 65,
   "metadata": {},
   "outputs": [],
   "source": [
    "estrutura.drop(notusing, axis=1, inplace=True)"
   ]
  },
  {
   "cell_type": "code",
   "execution_count": 66,
   "metadata": {},
   "outputs": [],
   "source": [
    "estrutura = estrutura.set_index('CODESC')"
   ]
  },
  {
   "cell_type": "markdown",
   "metadata": {},
   "source": [
    "## Importando Carga Horária "
   ]
  },
  {
   "cell_type": "code",
   "execution_count": 67,
   "metadata": {},
   "outputs": [],
   "source": [
    "df1 = pd.read_csv('BASE_CARGA_HOR_SALA_AULA_0419.csv', sep=';')"
   ]
  },
  {
   "cell_type": "code",
   "execution_count": 68,
   "metadata": {},
   "outputs": [
    {
     "name": "stderr",
     "output_type": "stream",
     "text": [
      "C:\\Users\\epfel\\Anaconda3\\lib\\site-packages\\IPython\\core\\interactiveshell.py:3058: DtypeWarning: Columns (2,3,4,5,6,10,11,12,13,14,16,19,21,22,23,24,25,26,28) have mixed types. Specify dtype option on import or set low_memory=False.\n",
      "  interactivity=interactivity, compiler=compiler, result=result)\n"
     ]
    }
   ],
   "source": [
    "df2 = pd.read_csv('BASE_CARGA_HOR_SALA_AULA_0818_anonimizado.csv', sep=';', encoding='latin1')"
   ]
  },
  {
   "cell_type": "code",
   "execution_count": 69,
   "metadata": {},
   "outputs": [],
   "source": [
    "df3 = pd.read_csv('BASE_CARGA_HOR_SALA_AULA_1119.csv', sep=';')"
   ]
  },
  {
   "cell_type": "code",
   "execution_count": 70,
   "metadata": {},
   "outputs": [],
   "source": [
    "frames = [df1, df2, df3]"
   ]
  },
  {
   "cell_type": "code",
   "execution_count": 71,
   "metadata": {},
   "outputs": [],
   "source": [
    "carga_horaria = pd.concat(frames, sort=False)"
   ]
  },
  {
   "cell_type": "code",
   "execution_count": 72,
   "metadata": {},
   "outputs": [],
   "source": [
    "carga_horaria.drop(286011, axis=0, inplace=True)"
   ]
  },
  {
   "cell_type": "code",
   "execution_count": 73,
   "metadata": {},
   "outputs": [],
   "source": [
    "carga_horaria['TOT_GERAL_AULA'] = carga_horaria['TOT_GERAL_AULA'].astype('float32')"
   ]
  },
  {
   "cell_type": "code",
   "execution_count": 74,
   "metadata": {},
   "outputs": [
    {
     "data": {
      "text/plain": [
       "CODESC  DEN_MATERIA   \n",
       "901124  ENS. FUNDAM.      6050.0\n",
       "923515  ENS. FUNDAM.      4800.0\n",
       "925949  ENS. FUNDAM.      4525.0\n",
       "35476   ENS. FUNDAM.      4525.0\n",
       "915701  ENS. FUNDAM.      4500.0\n",
       "                           ...  \n",
       "925925  FILOSOFIA            1.0\n",
       "30570   FILOSOFIA EJA        1.0\n",
       "43928   GEOGR EJA            1.0\n",
       "14148   SOCIOLOGIA EJA       1.0\n",
       "7055    SOCIOLOGIA EJA       1.0\n",
       "Name: TOT_GERAL_AULA, Length: 129763, dtype: float32"
      ]
     },
     "execution_count": 74,
     "metadata": {},
     "output_type": "execute_result"
    }
   ],
   "source": [
    "carga_horaria.groupby(['CODESC', 'DEN_MATERIA'])['TOT_GERAL_AULA'].sum().sort_values(ascending=False)"
   ]
  },
  {
   "cell_type": "code",
   "execution_count": 75,
   "metadata": {},
   "outputs": [],
   "source": [
    "cg_geral = pd.DataFrame(carga_horaria.groupby(['CODESC'])['TOT_GERAL_AULA'].mean())"
   ]
  },
  {
   "cell_type": "code",
   "execution_count": 76,
   "metadata": {},
   "outputs": [],
   "source": [
    "cg_geral.columns = ['Carga_Horaria_Geral']"
   ]
  },
  {
   "cell_type": "markdown",
   "metadata": {},
   "source": [
    "## Importando dados da Diretoria "
   ]
  },
  {
   "cell_type": "code",
   "execution_count": 77,
   "metadata": {},
   "outputs": [],
   "source": [
    "df_dir = pd.read_csv('DIRETORES DE ESCOLA.csv', sep=';')"
   ]
  },
  {
   "cell_type": "code",
   "execution_count": 78,
   "metadata": {},
   "outputs": [],
   "source": [
    "df_coord = pd.read_csv('PROFESSOR_COORDENADOR.csv', sep=';')"
   ]
  },
  {
   "cell_type": "code",
   "execution_count": 79,
   "metadata": {},
   "outputs": [],
   "source": [
    "df_vidir = pd.read_csv('VICE_DIRETOR.csv', sep=';')"
   ]
  },
  {
   "cell_type": "code",
   "execution_count": 80,
   "metadata": {},
   "outputs": [],
   "source": [
    "df_dir['tag2014'] = ['1' if x == 'SIM' else '0' for x in df_dir['2014']]\n",
    "df_dir['tag2015'] = ['1' if x == 'SIM' else '0' for x in df_dir['2015']]\n",
    "df_dir['tag2016'] = ['1' if x == 'SIM' else '0' for x in df_dir['2016']]\n",
    "df_dir['tag2017'] = ['1' if x == 'SIM' else '0' for x in df_dir['2017']]\n",
    "df_dir['tag2018'] = ['1' if x == 'SIM' else '0' for x in df_dir['2018']]\n",
    "df_dir['tag2019'] = ['1' if x == 'SIM' else '0' for x in df_dir['2019']]\n",
    "df_coord['tag2014'] = ['1' if x == 'SIM' else '0' for x in df_coord['2014']]\n",
    "df_coord['tag2015'] = ['1' if x == 'SIM' else '0' for x in df_coord['2015']]\n",
    "df_coord['tag2016'] = ['1' if x == 'SIM' else '0' for x in df_coord['2016']]\n",
    "df_coord['tag2017'] = ['1' if x == 'SIM' else '0' for x in df_coord['2017']]\n",
    "df_coord['tag2018'] = ['1' if x == 'SIM' else '0' for x in df_coord['2018']]\n",
    "df_coord['tag2019'] = ['1' if x == 'SIM' else '0' for x in df_coord['2019']]\n",
    "df_vidir['tag2014'] = ['1' if x == 'SIM' else '0' for x in df_vidir['2014']]\n",
    "df_vidir['tag2015'] = ['1' if x == 'SIM' else '0' for x in df_vidir['2015']]\n",
    "df_vidir['tag2016'] = ['1' if x == 'SIM' else '0' for x in df_vidir['2016']]\n",
    "df_vidir['tag2017'] = ['1' if x == 'SIM' else '0' for x in df_vidir['2017']]\n",
    "df_vidir['tag2018'] = ['1' if x == 'SIM' else '0' for x in df_vidir['2018']]\n",
    "df_vidir['tag2019'] = ['1' if x == 'SIM' else '0' for x in df_vidir['2019']]"
   ]
  },
  {
   "cell_type": "code",
   "execution_count": 81,
   "metadata": {},
   "outputs": [],
   "source": [
    "df_dir['tag2014'] = df_dir['tag2014'].astype('int32')\n",
    "df_dir['tag2015'] = df_dir['tag2015'].astype('int32')\n",
    "df_dir['tag2016'] = df_dir['tag2016'].astype('int32')\n",
    "df_dir['tag2017'] = df_dir['tag2017'].astype('int32')\n",
    "df_dir['tag2018'] = df_dir['tag2018'].astype('int32')\n",
    "df_dir['tag2019'] = df_dir['tag2019'].astype('int32')\n",
    "df_dir['total_tag'] =  (df_dir['tag2014'] + df_dir['tag2015'] + df_dir['tag2016'] + df_dir['tag2017'] + df_dir['tag2018'] + df_dir['tag2019'])\n",
    "df_coord['tag2014'] = df_coord['tag2014'].astype('int32')\n",
    "df_coord['tag2015'] = df_coord['tag2015'].astype('int32')\n",
    "df_coord['tag2016'] = df_coord['tag2016'].astype('int32')\n",
    "df_coord['tag2017'] = df_coord['tag2017'].astype('int32')\n",
    "df_coord['tag2018'] = df_coord['tag2018'].astype('int32')\n",
    "df_coord['tag2019'] = df_coord['tag2019'].astype('int32')\n",
    "df_coord['total_tag'] =  (df_coord['tag2014'] + df_coord['tag2015'] + df_coord['tag2016'] + df_coord['tag2017'] + df_coord['tag2018'] + df_coord['tag2019'])\n",
    "df_vidir['tag2014'] = df_vidir['tag2014'].astype('int32')\n",
    "df_vidir['tag2015'] = df_vidir['tag2015'].astype('int32')\n",
    "df_vidir['tag2016'] = df_vidir['tag2016'].astype('int32')\n",
    "df_vidir['tag2017'] = df_vidir['tag2017'].astype('int32')\n",
    "df_vidir['tag2018'] = df_vidir['tag2018'].astype('int32')\n",
    "df_vidir['tag2019'] = df_vidir['tag2019'].astype('int32')\n",
    "df_vidir['total_tag'] =  (df_vidir['tag2014'] + df_vidir['tag2015'] + df_vidir['tag2016'] + df_vidir['tag2017'] + df_vidir['tag2018'] + df_vidir['tag2019'])"
   ]
  },
  {
   "cell_type": "code",
   "execution_count": 82,
   "metadata": {},
   "outputs": [],
   "source": [
    "df_dir = pd.DataFrame(df_dir.groupby('CD_ESCOLA')['total_tag'].mean())"
   ]
  },
  {
   "cell_type": "code",
   "execution_count": 83,
   "metadata": {},
   "outputs": [],
   "source": [
    "df_coord = pd.DataFrame(df_coord.groupby('CD_ESCOLA')['total_tag'].mean())"
   ]
  },
  {
   "cell_type": "code",
   "execution_count": 84,
   "metadata": {},
   "outputs": [],
   "source": [
    "df_vidir = pd.DataFrame(df_vidir.groupby('CD_ESCOLA')['total_tag'].mean())"
   ]
  },
  {
   "cell_type": "code",
   "execution_count": 85,
   "metadata": {},
   "outputs": [],
   "source": [
    "diretoria_cord = pd.merge(df_dir, df_coord, left_index=True, right_index=True, how='outer')"
   ]
  },
  {
   "cell_type": "code",
   "execution_count": 86,
   "metadata": {},
   "outputs": [],
   "source": [
    "diretoria = pd.merge(diretoria_cord, df_vidir, left_index=True, right_index=True, how='outer')"
   ]
  },
  {
   "cell_type": "code",
   "execution_count": 87,
   "metadata": {},
   "outputs": [],
   "source": [
    "diretoria.columns = ['tempo_diretor', 'tempo_coordenador', 'tempo_vice']"
   ]
  },
  {
   "cell_type": "markdown",
   "metadata": {},
   "source": [
    "## Importando Dados Alunos por Escola"
   ]
  },
  {
   "cell_type": "code",
   "execution_count": 88,
   "metadata": {},
   "outputs": [],
   "source": [
    "df = pd.read_csv('10_Escolas_Classes_Qtde_Alunos.csv', sep=';')"
   ]
  },
  {
   "cell_type": "code",
   "execution_count": 89,
   "metadata": {},
   "outputs": [
    {
     "data": {
      "text/plain": [
       "ENSINO FUNDAMENTAL DE 9 ANOS                   0.460598\n",
       "ENSINO MEDIO                                   0.316334\n",
       "ENSINO FUNDAMENTAL DE 8 ANOS                   0.047085\n",
       "EDUCAÇÃO COMPLEMENTAR                          0.042443\n",
       "EJA ENSINO MÉDIO                               0.035685\n",
       "EDUCACAO ESPECIAL - DM                         0.027438\n",
       "CEL                                            0.025741\n",
       "EJA ENSINO FUNDAMENTAL 5ª A 8ª                 0.013275\n",
       "ATIVIDADES CURRICULARES DESPORTIVAS (ACD)      0.007181\n",
       "ENSINO FUNDAMENTAL (6º ANO A 9º ANO) - CASA    0.005915\n",
       "EJA ENSINO FUNDAMENTAL 1ª A 4ª                 0.003447\n",
       "EDUCAÇÃO FÍSICA DOS ALUNOS DO NOTURNO          0.003326\n",
       "ENSINO MÉDIO - CASA                            0.003158\n",
       "EDUCACAO ESPECIAL - DA                         0.002584\n",
       "ESPECTRO DO AUTISMO                            0.001760\n",
       "EDUCACAO ESPECIAL - DV                         0.001479\n",
       "ENSINO FUNDAMENTAL (1º ANO A 5º ANO) - CASA    0.001250\n",
       "EDUCACAO ESPECIAL - DF                         0.000499\n",
       "PROJETO EXPLORANDO CURRÍCULO - PEC             0.000453\n",
       "EDUCACAO INFANTIL                              0.000275\n",
       "ESPANHOL                                       0.000058\n",
       "SALA DE RECURSO ALTAS HABILIDADE               0.000017\n",
       "Name: TipoEnsino, dtype: float64"
      ]
     },
     "execution_count": 89,
     "metadata": {},
     "output_type": "execute_result"
    }
   ],
   "source": [
    "df['TipoEnsino'].value_counts(normalize=True)"
   ]
  },
  {
   "cell_type": "code",
   "execution_count": 90,
   "metadata": {},
   "outputs": [],
   "source": [
    "qte_ensinomedio = df[df['TipoEnsino']=='ENSINO MEDIO']"
   ]
  },
  {
   "cell_type": "code",
   "execution_count": 91,
   "metadata": {},
   "outputs": [],
   "source": [
    "qte_ensinomedio = qte_ensinomedio[['COD_ESC', 'QTDE_ALUNOS']]"
   ]
  },
  {
   "cell_type": "code",
   "execution_count": 92,
   "metadata": {},
   "outputs": [],
   "source": [
    "qte_fundamental = df[(df['TipoEnsino']=='ENSINO FUNDAMENTAL DE 9 ANOS') |  (df['TipoEnsino']=='ENSINO FUNDAMENTAL DE 8 ANOS')]"
   ]
  },
  {
   "cell_type": "code",
   "execution_count": 93,
   "metadata": {},
   "outputs": [],
   "source": [
    "qte_fundamental = qte_fundamental[['COD_ESC', 'QTDE_ALUNOS']]"
   ]
  },
  {
   "cell_type": "code",
   "execution_count": 94,
   "metadata": {},
   "outputs": [],
   "source": [
    "qte_fundamental = pd.DataFrame(qte_fundamental.groupby('COD_ESC')['QTDE_ALUNOS'].mean())"
   ]
  },
  {
   "cell_type": "code",
   "execution_count": 95,
   "metadata": {},
   "outputs": [],
   "source": [
    "qte_ensinomedio = pd.DataFrame(qte_ensinomedio.groupby('COD_ESC')['QTDE_ALUNOS'].mean())"
   ]
  },
  {
   "cell_type": "markdown",
   "metadata": {},
   "source": [
    "## Criando os Datasets para exploração"
   ]
  },
  {
   "cell_type": "code",
   "execution_count": 96,
   "metadata": {},
   "outputs": [],
   "source": [
    "join_frames = [ cg_geral, qte_ensinomedio, diretoria, estrutura, formacao, ausencias, total_sem_prof]\n",
    "for x in join_frames:\n",
    "    df_medio_geral =  pd.merge(df_medio_geral, x, left_index=True, right_index=True, how='left')"
   ]
  },
  {
   "cell_type": "code",
   "execution_count": 97,
   "metadata": {},
   "outputs": [],
   "source": [
    "join_frames = [ cg_geral, qte_fundamental, diretoria, estrutura, formacao, ausencias, total_sem_prof]\n",
    "for x in join_frames:\n",
    "    df_fund_geral =  pd.merge(df_fund_geral, x, left_index=True, right_index=True, how='left')"
   ]
  },
  {
   "cell_type": "markdown",
   "metadata": {},
   "source": [
    "## Explorando as variáveis "
   ]
  },
  {
   "cell_type": "code",
   "execution_count": 98,
   "metadata": {},
   "outputs": [],
   "source": [
    "var_resposta = ['Média_SARESP_geral','QTDE_ALUNOS', 'tempo_coordenador', 'tempo_vice','TOT_SALAS_AULA', 'SALAS_AULA','tempo_diretor', 'Carga_Horaria_Geral', 'TOT_DIAS_AUSENCIAS', 'tag_formacao', 'Num_Disc_semprof'] "
   ]
  },
  {
   "cell_type": "code",
   "execution_count": 99,
   "metadata": {},
   "outputs": [],
   "source": [
    "df_fund_geral_positivo = df_fund_geral[df_fund_geral['tag_melhores_25%']=='1']\n",
    "df_fund_geral_negativo = df_fund_geral[df_fund_geral['tag_melhores_25%']=='0']"
   ]
  },
  {
   "cell_type": "code",
   "execution_count": 100,
   "metadata": {},
   "outputs": [
    {
     "data": {
      "text/html": [
       "<div>\n",
       "<style scoped>\n",
       "    .dataframe tbody tr th:only-of-type {\n",
       "        vertical-align: middle;\n",
       "    }\n",
       "\n",
       "    .dataframe tbody tr th {\n",
       "        vertical-align: top;\n",
       "    }\n",
       "\n",
       "    .dataframe thead th {\n",
       "        text-align: right;\n",
       "    }\n",
       "</style>\n",
       "<table border=\"1\" class=\"dataframe\">\n",
       "  <thead>\n",
       "    <tr style=\"text-align: right;\">\n",
       "      <th></th>\n",
       "      <th>Média_SARESP_geral</th>\n",
       "      <th>Carga_Horaria_Geral</th>\n",
       "      <th>QTDE_ALUNOS</th>\n",
       "      <th>tempo_diretor</th>\n",
       "      <th>tempo_coordenador</th>\n",
       "      <th>tempo_vice</th>\n",
       "      <th>SALAS_AULA</th>\n",
       "      <th>SALAS_ED_INF</th>\n",
       "      <th>SALAS_ED_ESP</th>\n",
       "      <th>SALAS_ED_ART</th>\n",
       "      <th>...</th>\n",
       "      <th>VARANDA</th>\n",
       "      <th>VIVEIRO</th>\n",
       "      <th>SALA_REORG_NEURO</th>\n",
       "      <th>SALA_TERAPIA_OCUP</th>\n",
       "      <th>SALA_SERIGRAFIA</th>\n",
       "      <th>SALA_MARCENARIA</th>\n",
       "      <th>QUIOSQUE</th>\n",
       "      <th>tag_formacao</th>\n",
       "      <th>TOT_DIAS_AUSENCIAS</th>\n",
       "      <th>Num_Disc_semprof</th>\n",
       "    </tr>\n",
       "  </thead>\n",
       "  <tbody>\n",
       "    <tr>\n",
       "      <td>count</td>\n",
       "      <td>1196.000000</td>\n",
       "      <td>1132.000000</td>\n",
       "      <td>1161.000000</td>\n",
       "      <td>1153.000000</td>\n",
       "      <td>1180.000000</td>\n",
       "      <td>1172.000000</td>\n",
       "      <td>1174.000000</td>\n",
       "      <td>1174.000000</td>\n",
       "      <td>1174.000000</td>\n",
       "      <td>1174.000000</td>\n",
       "      <td>...</td>\n",
       "      <td>1174.000000</td>\n",
       "      <td>1174.000000</td>\n",
       "      <td>1174.0</td>\n",
       "      <td>1174.0</td>\n",
       "      <td>1174.0</td>\n",
       "      <td>1174.000000</td>\n",
       "      <td>1174.000000</td>\n",
       "      <td>1173.000000</td>\n",
       "      <td>1173.000000</td>\n",
       "      <td>1174.000000</td>\n",
       "    </tr>\n",
       "    <tr>\n",
       "      <td>mean</td>\n",
       "      <td>inf</td>\n",
       "      <td>13.062583</td>\n",
       "      <td>29.225086</td>\n",
       "      <td>3.145367</td>\n",
       "      <td>3.135111</td>\n",
       "      <td>2.839041</td>\n",
       "      <td>11.293867</td>\n",
       "      <td>0.000852</td>\n",
       "      <td>0.023850</td>\n",
       "      <td>0.071550</td>\n",
       "      <td>...</td>\n",
       "      <td>0.031516</td>\n",
       "      <td>0.000852</td>\n",
       "      <td>0.0</td>\n",
       "      <td>0.0</td>\n",
       "      <td>0.0</td>\n",
       "      <td>0.000852</td>\n",
       "      <td>0.010221</td>\n",
       "      <td>4.739009</td>\n",
       "      <td>5.859695</td>\n",
       "      <td>16.048552</td>\n",
       "    </tr>\n",
       "    <tr>\n",
       "      <td>std</td>\n",
       "      <td>7.292969</td>\n",
       "      <td>3.218938</td>\n",
       "      <td>4.873434</td>\n",
       "      <td>1.123818</td>\n",
       "      <td>1.057284</td>\n",
       "      <td>0.944996</td>\n",
       "      <td>4.110745</td>\n",
       "      <td>0.029185</td>\n",
       "      <td>0.152647</td>\n",
       "      <td>0.270754</td>\n",
       "      <td>...</td>\n",
       "      <td>0.233280</td>\n",
       "      <td>0.029185</td>\n",
       "      <td>0.0</td>\n",
       "      <td>0.0</td>\n",
       "      <td>0.0</td>\n",
       "      <td>0.029185</td>\n",
       "      <td>0.108769</td>\n",
       "      <td>0.186377</td>\n",
       "      <td>2.024422</td>\n",
       "      <td>7.682102</td>\n",
       "    </tr>\n",
       "    <tr>\n",
       "      <td>min</td>\n",
       "      <td>227.375000</td>\n",
       "      <td>3.647059</td>\n",
       "      <td>7.354167</td>\n",
       "      <td>1.555556</td>\n",
       "      <td>1.000000</td>\n",
       "      <td>1.000000</td>\n",
       "      <td>2.000000</td>\n",
       "      <td>0.000000</td>\n",
       "      <td>0.000000</td>\n",
       "      <td>0.000000</td>\n",
       "      <td>...</td>\n",
       "      <td>0.000000</td>\n",
       "      <td>0.000000</td>\n",
       "      <td>0.0</td>\n",
       "      <td>0.0</td>\n",
       "      <td>0.0</td>\n",
       "      <td>0.000000</td>\n",
       "      <td>0.000000</td>\n",
       "      <td>4.057851</td>\n",
       "      <td>1.000000</td>\n",
       "      <td>3.000000</td>\n",
       "    </tr>\n",
       "    <tr>\n",
       "      <td>25%</td>\n",
       "      <td>230.375000</td>\n",
       "      <td>10.951165</td>\n",
       "      <td>26.918367</td>\n",
       "      <td>2.333333</td>\n",
       "      <td>2.400000</td>\n",
       "      <td>2.200000</td>\n",
       "      <td>8.000000</td>\n",
       "      <td>0.000000</td>\n",
       "      <td>0.000000</td>\n",
       "      <td>0.000000</td>\n",
       "      <td>...</td>\n",
       "      <td>0.000000</td>\n",
       "      <td>0.000000</td>\n",
       "      <td>0.0</td>\n",
       "      <td>0.0</td>\n",
       "      <td>0.0</td>\n",
       "      <td>0.000000</td>\n",
       "      <td>0.000000</td>\n",
       "      <td>4.635922</td>\n",
       "      <td>4.465517</td>\n",
       "      <td>13.000000</td>\n",
       "    </tr>\n",
       "    <tr>\n",
       "      <td>50%</td>\n",
       "      <td>233.875000</td>\n",
       "      <td>12.874708</td>\n",
       "      <td>30.016667</td>\n",
       "      <td>2.800000</td>\n",
       "      <td>3.000000</td>\n",
       "      <td>2.666667</td>\n",
       "      <td>11.000000</td>\n",
       "      <td>0.000000</td>\n",
       "      <td>0.000000</td>\n",
       "      <td>0.000000</td>\n",
       "      <td>...</td>\n",
       "      <td>0.000000</td>\n",
       "      <td>0.000000</td>\n",
       "      <td>0.0</td>\n",
       "      <td>0.0</td>\n",
       "      <td>0.0</td>\n",
       "      <td>0.000000</td>\n",
       "      <td>0.000000</td>\n",
       "      <td>4.746575</td>\n",
       "      <td>5.731707</td>\n",
       "      <td>15.000000</td>\n",
       "    </tr>\n",
       "    <tr>\n",
       "      <td>75%</td>\n",
       "      <td>239.625000</td>\n",
       "      <td>14.949789</td>\n",
       "      <td>32.670732</td>\n",
       "      <td>3.666667</td>\n",
       "      <td>3.500000</td>\n",
       "      <td>3.333333</td>\n",
       "      <td>14.000000</td>\n",
       "      <td>0.000000</td>\n",
       "      <td>0.000000</td>\n",
       "      <td>0.000000</td>\n",
       "      <td>...</td>\n",
       "      <td>0.000000</td>\n",
       "      <td>0.000000</td>\n",
       "      <td>0.0</td>\n",
       "      <td>0.0</td>\n",
       "      <td>0.0</td>\n",
       "      <td>0.000000</td>\n",
       "      <td>0.000000</td>\n",
       "      <td>4.867647</td>\n",
       "      <td>7.144330</td>\n",
       "      <td>19.000000</td>\n",
       "    </tr>\n",
       "    <tr>\n",
       "      <td>max</td>\n",
       "      <td>270.250000</td>\n",
       "      <td>32.000000</td>\n",
       "      <td>38.440476</td>\n",
       "      <td>6.000000</td>\n",
       "      <td>6.000000</td>\n",
       "      <td>6.000000</td>\n",
       "      <td>32.000000</td>\n",
       "      <td>1.000000</td>\n",
       "      <td>1.000000</td>\n",
       "      <td>2.000000</td>\n",
       "      <td>...</td>\n",
       "      <td>3.000000</td>\n",
       "      <td>1.000000</td>\n",
       "      <td>0.0</td>\n",
       "      <td>0.0</td>\n",
       "      <td>0.0</td>\n",
       "      <td>1.000000</td>\n",
       "      <td>2.000000</td>\n",
       "      <td>5.292453</td>\n",
       "      <td>13.760000</td>\n",
       "      <td>37.000000</td>\n",
       "    </tr>\n",
       "  </tbody>\n",
       "</table>\n",
       "<p>8 rows × 172 columns</p>\n",
       "</div>"
      ],
      "text/plain": [
       "       Média_SARESP_geral  Carga_Horaria_Geral  QTDE_ALUNOS  tempo_diretor  \\\n",
       "count         1196.000000          1132.000000  1161.000000    1153.000000   \n",
       "mean                  inf            13.062583    29.225086       3.145367   \n",
       "std              7.292969             3.218938     4.873434       1.123818   \n",
       "min            227.375000             3.647059     7.354167       1.555556   \n",
       "25%            230.375000            10.951165    26.918367       2.333333   \n",
       "50%            233.875000            12.874708    30.016667       2.800000   \n",
       "75%            239.625000            14.949789    32.670732       3.666667   \n",
       "max            270.250000            32.000000    38.440476       6.000000   \n",
       "\n",
       "       tempo_coordenador   tempo_vice   SALAS_AULA  SALAS_ED_INF  \\\n",
       "count        1180.000000  1172.000000  1174.000000   1174.000000   \n",
       "mean            3.135111     2.839041    11.293867      0.000852   \n",
       "std             1.057284     0.944996     4.110745      0.029185   \n",
       "min             1.000000     1.000000     2.000000      0.000000   \n",
       "25%             2.400000     2.200000     8.000000      0.000000   \n",
       "50%             3.000000     2.666667    11.000000      0.000000   \n",
       "75%             3.500000     3.333333    14.000000      0.000000   \n",
       "max             6.000000     6.000000    32.000000      1.000000   \n",
       "\n",
       "       SALAS_ED_ESP  SALAS_ED_ART  ...      VARANDA      VIVEIRO  \\\n",
       "count   1174.000000   1174.000000  ...  1174.000000  1174.000000   \n",
       "mean       0.023850      0.071550  ...     0.031516     0.000852   \n",
       "std        0.152647      0.270754  ...     0.233280     0.029185   \n",
       "min        0.000000      0.000000  ...     0.000000     0.000000   \n",
       "25%        0.000000      0.000000  ...     0.000000     0.000000   \n",
       "50%        0.000000      0.000000  ...     0.000000     0.000000   \n",
       "75%        0.000000      0.000000  ...     0.000000     0.000000   \n",
       "max        1.000000      2.000000  ...     3.000000     1.000000   \n",
       "\n",
       "       SALA_REORG_NEURO  SALA_TERAPIA_OCUP  SALA_SERIGRAFIA  SALA_MARCENARIA  \\\n",
       "count            1174.0             1174.0           1174.0      1174.000000   \n",
       "mean                0.0                0.0              0.0         0.000852   \n",
       "std                 0.0                0.0              0.0         0.029185   \n",
       "min                 0.0                0.0              0.0         0.000000   \n",
       "25%                 0.0                0.0              0.0         0.000000   \n",
       "50%                 0.0                0.0              0.0         0.000000   \n",
       "75%                 0.0                0.0              0.0         0.000000   \n",
       "max                 0.0                0.0              0.0         1.000000   \n",
       "\n",
       "          QUIOSQUE  tag_formacao  TOT_DIAS_AUSENCIAS  Num_Disc_semprof  \n",
       "count  1174.000000   1173.000000         1173.000000       1174.000000  \n",
       "mean      0.010221      4.739009            5.859695         16.048552  \n",
       "std       0.108769      0.186377            2.024422          7.682102  \n",
       "min       0.000000      4.057851            1.000000          3.000000  \n",
       "25%       0.000000      4.635922            4.465517         13.000000  \n",
       "50%       0.000000      4.746575            5.731707         15.000000  \n",
       "75%       0.000000      4.867647            7.144330         19.000000  \n",
       "max       2.000000      5.292453           13.760000         37.000000  \n",
       "\n",
       "[8 rows x 172 columns]"
      ]
     },
     "execution_count": 100,
     "metadata": {},
     "output_type": "execute_result"
    }
   ],
   "source": [
    "df_fund_geral_positivo.describe()"
   ]
  },
  {
   "cell_type": "code",
   "execution_count": 101,
   "metadata": {},
   "outputs": [
    {
     "data": {
      "text/html": [
       "<div>\n",
       "<style scoped>\n",
       "    .dataframe tbody tr th:only-of-type {\n",
       "        vertical-align: middle;\n",
       "    }\n",
       "\n",
       "    .dataframe tbody tr th {\n",
       "        vertical-align: top;\n",
       "    }\n",
       "\n",
       "    .dataframe thead th {\n",
       "        text-align: right;\n",
       "    }\n",
       "</style>\n",
       "<table border=\"1\" class=\"dataframe\">\n",
       "  <thead>\n",
       "    <tr style=\"text-align: right;\">\n",
       "      <th></th>\n",
       "      <th>Média_SARESP_geral</th>\n",
       "      <th>Carga_Horaria_Geral</th>\n",
       "      <th>QTDE_ALUNOS</th>\n",
       "      <th>tempo_diretor</th>\n",
       "      <th>tempo_coordenador</th>\n",
       "      <th>tempo_vice</th>\n",
       "      <th>SALAS_AULA</th>\n",
       "      <th>SALAS_ED_INF</th>\n",
       "      <th>SALAS_ED_ESP</th>\n",
       "      <th>SALAS_ED_ART</th>\n",
       "      <th>...</th>\n",
       "      <th>VARANDA</th>\n",
       "      <th>VIVEIRO</th>\n",
       "      <th>SALA_REORG_NEURO</th>\n",
       "      <th>SALA_TERAPIA_OCUP</th>\n",
       "      <th>SALA_SERIGRAFIA</th>\n",
       "      <th>SALA_MARCENARIA</th>\n",
       "      <th>QUIOSQUE</th>\n",
       "      <th>tag_formacao</th>\n",
       "      <th>TOT_DIAS_AUSENCIAS</th>\n",
       "      <th>Num_Disc_semprof</th>\n",
       "    </tr>\n",
       "  </thead>\n",
       "  <tbody>\n",
       "    <tr>\n",
       "      <td>count</td>\n",
       "      <td>3584.000</td>\n",
       "      <td>3402.000000</td>\n",
       "      <td>3483.000000</td>\n",
       "      <td>3501.000000</td>\n",
       "      <td>3545.000000</td>\n",
       "      <td>3530.000000</td>\n",
       "      <td>3515.000000</td>\n",
       "      <td>3515.0</td>\n",
       "      <td>3515.000000</td>\n",
       "      <td>3515.000000</td>\n",
       "      <td>...</td>\n",
       "      <td>3515.000000</td>\n",
       "      <td>3515.000000</td>\n",
       "      <td>3515.0</td>\n",
       "      <td>3515.0</td>\n",
       "      <td>3515.0</td>\n",
       "      <td>3515.0</td>\n",
       "      <td>3515.000000</td>\n",
       "      <td>3514.000000</td>\n",
       "      <td>3512.000000</td>\n",
       "      <td>3516.000000</td>\n",
       "    </tr>\n",
       "    <tr>\n",
       "      <td>mean</td>\n",
       "      <td>inf</td>\n",
       "      <td>13.330518</td>\n",
       "      <td>28.394808</td>\n",
       "      <td>2.994325</td>\n",
       "      <td>2.914393</td>\n",
       "      <td>2.687599</td>\n",
       "      <td>12.387198</td>\n",
       "      <td>0.0</td>\n",
       "      <td>0.033855</td>\n",
       "      <td>0.077667</td>\n",
       "      <td>...</td>\n",
       "      <td>0.016785</td>\n",
       "      <td>0.000284</td>\n",
       "      <td>0.0</td>\n",
       "      <td>0.0</td>\n",
       "      <td>0.0</td>\n",
       "      <td>0.0</td>\n",
       "      <td>0.005974</td>\n",
       "      <td>4.714158</td>\n",
       "      <td>5.794303</td>\n",
       "      <td>16.445392</td>\n",
       "    </tr>\n",
       "    <tr>\n",
       "      <td>std</td>\n",
       "      <td>9.375</td>\n",
       "      <td>3.179813</td>\n",
       "      <td>3.587204</td>\n",
       "      <td>1.089747</td>\n",
       "      <td>0.955877</td>\n",
       "      <td>0.898549</td>\n",
       "      <td>4.258041</td>\n",
       "      <td>0.0</td>\n",
       "      <td>0.200292</td>\n",
       "      <td>0.277088</td>\n",
       "      <td>...</td>\n",
       "      <td>0.148996</td>\n",
       "      <td>0.016867</td>\n",
       "      <td>0.0</td>\n",
       "      <td>0.0</td>\n",
       "      <td>0.0</td>\n",
       "      <td>0.0</td>\n",
       "      <td>0.084135</td>\n",
       "      <td>0.186962</td>\n",
       "      <td>1.938597</td>\n",
       "      <td>8.162617</td>\n",
       "    </tr>\n",
       "    <tr>\n",
       "      <td>min</td>\n",
       "      <td>138.250</td>\n",
       "      <td>2.980000</td>\n",
       "      <td>6.500000</td>\n",
       "      <td>1.000000</td>\n",
       "      <td>1.000000</td>\n",
       "      <td>1.000000</td>\n",
       "      <td>2.000000</td>\n",
       "      <td>0.0</td>\n",
       "      <td>0.000000</td>\n",
       "      <td>0.000000</td>\n",
       "      <td>...</td>\n",
       "      <td>0.000000</td>\n",
       "      <td>0.000000</td>\n",
       "      <td>0.0</td>\n",
       "      <td>0.0</td>\n",
       "      <td>0.0</td>\n",
       "      <td>0.0</td>\n",
       "      <td>0.000000</td>\n",
       "      <td>3.700000</td>\n",
       "      <td>1.000000</td>\n",
       "      <td>3.000000</td>\n",
       "    </tr>\n",
       "    <tr>\n",
       "      <td>25%</td>\n",
       "      <td>207.125</td>\n",
       "      <td>11.246944</td>\n",
       "      <td>26.474706</td>\n",
       "      <td>2.200000</td>\n",
       "      <td>2.250000</td>\n",
       "      <td>2.000000</td>\n",
       "      <td>9.000000</td>\n",
       "      <td>0.0</td>\n",
       "      <td>0.000000</td>\n",
       "      <td>0.000000</td>\n",
       "      <td>...</td>\n",
       "      <td>0.000000</td>\n",
       "      <td>0.000000</td>\n",
       "      <td>0.0</td>\n",
       "      <td>0.0</td>\n",
       "      <td>0.0</td>\n",
       "      <td>0.0</td>\n",
       "      <td>0.000000</td>\n",
       "      <td>4.603646</td>\n",
       "      <td>4.489114</td>\n",
       "      <td>13.000000</td>\n",
       "    </tr>\n",
       "    <tr>\n",
       "      <td>50%</td>\n",
       "      <td>214.250</td>\n",
       "      <td>12.962731</td>\n",
       "      <td>28.777778</td>\n",
       "      <td>2.666667</td>\n",
       "      <td>2.714286</td>\n",
       "      <td>2.500000</td>\n",
       "      <td>12.000000</td>\n",
       "      <td>0.0</td>\n",
       "      <td>0.000000</td>\n",
       "      <td>0.000000</td>\n",
       "      <td>...</td>\n",
       "      <td>0.000000</td>\n",
       "      <td>0.000000</td>\n",
       "      <td>0.0</td>\n",
       "      <td>0.0</td>\n",
       "      <td>0.0</td>\n",
       "      <td>0.0</td>\n",
       "      <td>0.000000</td>\n",
       "      <td>4.725275</td>\n",
       "      <td>5.726136</td>\n",
       "      <td>15.000000</td>\n",
       "    </tr>\n",
       "    <tr>\n",
       "      <td>75%</td>\n",
       "      <td>220.500</td>\n",
       "      <td>15.097260</td>\n",
       "      <td>30.776148</td>\n",
       "      <td>3.500000</td>\n",
       "      <td>3.333333</td>\n",
       "      <td>3.000000</td>\n",
       "      <td>15.000000</td>\n",
       "      <td>0.0</td>\n",
       "      <td>0.000000</td>\n",
       "      <td>0.000000</td>\n",
       "      <td>...</td>\n",
       "      <td>0.000000</td>\n",
       "      <td>0.000000</td>\n",
       "      <td>0.0</td>\n",
       "      <td>0.0</td>\n",
       "      <td>0.0</td>\n",
       "      <td>0.0</td>\n",
       "      <td>0.000000</td>\n",
       "      <td>4.840639</td>\n",
       "      <td>7.027846</td>\n",
       "      <td>21.000000</td>\n",
       "    </tr>\n",
       "    <tr>\n",
       "      <td>max</td>\n",
       "      <td>227.250</td>\n",
       "      <td>32.000000</td>\n",
       "      <td>37.089888</td>\n",
       "      <td>6.000000</td>\n",
       "      <td>6.000000</td>\n",
       "      <td>6.000000</td>\n",
       "      <td>35.000000</td>\n",
       "      <td>0.0</td>\n",
       "      <td>3.000000</td>\n",
       "      <td>2.000000</td>\n",
       "      <td>...</td>\n",
       "      <td>3.000000</td>\n",
       "      <td>1.000000</td>\n",
       "      <td>0.0</td>\n",
       "      <td>0.0</td>\n",
       "      <td>0.0</td>\n",
       "      <td>0.0</td>\n",
       "      <td>2.000000</td>\n",
       "      <td>5.342857</td>\n",
       "      <td>17.058824</td>\n",
       "      <td>38.000000</td>\n",
       "    </tr>\n",
       "  </tbody>\n",
       "</table>\n",
       "<p>8 rows × 172 columns</p>\n",
       "</div>"
      ],
      "text/plain": [
       "       Média_SARESP_geral  Carga_Horaria_Geral  QTDE_ALUNOS  tempo_diretor  \\\n",
       "count            3584.000          3402.000000  3483.000000    3501.000000   \n",
       "mean                  inf            13.330518    28.394808       2.994325   \n",
       "std                 9.375             3.179813     3.587204       1.089747   \n",
       "min               138.250             2.980000     6.500000       1.000000   \n",
       "25%               207.125            11.246944    26.474706       2.200000   \n",
       "50%               214.250            12.962731    28.777778       2.666667   \n",
       "75%               220.500            15.097260    30.776148       3.500000   \n",
       "max               227.250            32.000000    37.089888       6.000000   \n",
       "\n",
       "       tempo_coordenador   tempo_vice   SALAS_AULA  SALAS_ED_INF  \\\n",
       "count        3545.000000  3530.000000  3515.000000        3515.0   \n",
       "mean            2.914393     2.687599    12.387198           0.0   \n",
       "std             0.955877     0.898549     4.258041           0.0   \n",
       "min             1.000000     1.000000     2.000000           0.0   \n",
       "25%             2.250000     2.000000     9.000000           0.0   \n",
       "50%             2.714286     2.500000    12.000000           0.0   \n",
       "75%             3.333333     3.000000    15.000000           0.0   \n",
       "max             6.000000     6.000000    35.000000           0.0   \n",
       "\n",
       "       SALAS_ED_ESP  SALAS_ED_ART  ...      VARANDA      VIVEIRO  \\\n",
       "count   3515.000000   3515.000000  ...  3515.000000  3515.000000   \n",
       "mean       0.033855      0.077667  ...     0.016785     0.000284   \n",
       "std        0.200292      0.277088  ...     0.148996     0.016867   \n",
       "min        0.000000      0.000000  ...     0.000000     0.000000   \n",
       "25%        0.000000      0.000000  ...     0.000000     0.000000   \n",
       "50%        0.000000      0.000000  ...     0.000000     0.000000   \n",
       "75%        0.000000      0.000000  ...     0.000000     0.000000   \n",
       "max        3.000000      2.000000  ...     3.000000     1.000000   \n",
       "\n",
       "       SALA_REORG_NEURO  SALA_TERAPIA_OCUP  SALA_SERIGRAFIA  SALA_MARCENARIA  \\\n",
       "count            3515.0             3515.0           3515.0           3515.0   \n",
       "mean                0.0                0.0              0.0              0.0   \n",
       "std                 0.0                0.0              0.0              0.0   \n",
       "min                 0.0                0.0              0.0              0.0   \n",
       "25%                 0.0                0.0              0.0              0.0   \n",
       "50%                 0.0                0.0              0.0              0.0   \n",
       "75%                 0.0                0.0              0.0              0.0   \n",
       "max                 0.0                0.0              0.0              0.0   \n",
       "\n",
       "          QUIOSQUE  tag_formacao  TOT_DIAS_AUSENCIAS  Num_Disc_semprof  \n",
       "count  3515.000000   3514.000000         3512.000000       3516.000000  \n",
       "mean      0.005974      4.714158            5.794303         16.445392  \n",
       "std       0.084135      0.186962            1.938597          8.162617  \n",
       "min       0.000000      3.700000            1.000000          3.000000  \n",
       "25%       0.000000      4.603646            4.489114         13.000000  \n",
       "50%       0.000000      4.725275            5.726136         15.000000  \n",
       "75%       0.000000      4.840639            7.027846         21.000000  \n",
       "max       2.000000      5.342857           17.058824         38.000000  \n",
       "\n",
       "[8 rows x 172 columns]"
      ]
     },
     "execution_count": 101,
     "metadata": {},
     "output_type": "execute_result"
    }
   ],
   "source": [
    "df_fund_geral_negativo.describe()"
   ]
  },
  {
   "cell_type": "code",
   "execution_count": 102,
   "metadata": {},
   "outputs": [],
   "source": [
    "df_medio_geral_positivo = df_medio_geral[df_medio_geral['tag_melhores_25%']=='1']\n",
    "df_medio_geral_negativo = df_medio_geral[df_medio_geral['tag_melhores_25%']=='0']"
   ]
  },
  {
   "cell_type": "code",
   "execution_count": 103,
   "metadata": {},
   "outputs": [
    {
     "data": {
      "text/html": [
       "<div>\n",
       "<style scoped>\n",
       "    .dataframe tbody tr th:only-of-type {\n",
       "        vertical-align: middle;\n",
       "    }\n",
       "\n",
       "    .dataframe tbody tr th {\n",
       "        vertical-align: top;\n",
       "    }\n",
       "\n",
       "    .dataframe thead th {\n",
       "        text-align: right;\n",
       "    }\n",
       "</style>\n",
       "<table border=\"1\" class=\"dataframe\">\n",
       "  <thead>\n",
       "    <tr style=\"text-align: right;\">\n",
       "      <th></th>\n",
       "      <th>Média_SARESP_geral</th>\n",
       "      <th>Carga_Horaria_Geral</th>\n",
       "      <th>QTDE_ALUNOS</th>\n",
       "      <th>tempo_diretor</th>\n",
       "      <th>tempo_coordenador</th>\n",
       "      <th>tempo_vice</th>\n",
       "      <th>SALAS_AULA</th>\n",
       "      <th>SALAS_ED_INF</th>\n",
       "      <th>SALAS_ED_ESP</th>\n",
       "      <th>SALAS_ED_ART</th>\n",
       "      <th>...</th>\n",
       "      <th>VARANDA</th>\n",
       "      <th>VIVEIRO</th>\n",
       "      <th>SALA_REORG_NEURO</th>\n",
       "      <th>SALA_TERAPIA_OCUP</th>\n",
       "      <th>SALA_SERIGRAFIA</th>\n",
       "      <th>SALA_MARCENARIA</th>\n",
       "      <th>QUIOSQUE</th>\n",
       "      <th>tag_formacao</th>\n",
       "      <th>TOT_DIAS_AUSENCIAS</th>\n",
       "      <th>Num_Disc_semprof</th>\n",
       "    </tr>\n",
       "  </thead>\n",
       "  <tbody>\n",
       "    <tr>\n",
       "      <td>count</td>\n",
       "      <td>958.000000</td>\n",
       "      <td>866.000000</td>\n",
       "      <td>944.000000</td>\n",
       "      <td>927.000000</td>\n",
       "      <td>954.000000</td>\n",
       "      <td>955.000000</td>\n",
       "      <td>954.000000</td>\n",
       "      <td>954.000000</td>\n",
       "      <td>954.000000</td>\n",
       "      <td>954.000000</td>\n",
       "      <td>...</td>\n",
       "      <td>954.000000</td>\n",
       "      <td>954.0</td>\n",
       "      <td>954.0</td>\n",
       "      <td>954.0</td>\n",
       "      <td>954.0</td>\n",
       "      <td>954.000000</td>\n",
       "      <td>954.000000</td>\n",
       "      <td>954.000000</td>\n",
       "      <td>953.000000</td>\n",
       "      <td>955.000000</td>\n",
       "    </tr>\n",
       "    <tr>\n",
       "      <td>mean</td>\n",
       "      <td>inf</td>\n",
       "      <td>12.016548</td>\n",
       "      <td>29.231385</td>\n",
       "      <td>3.206351</td>\n",
       "      <td>3.100679</td>\n",
       "      <td>2.900896</td>\n",
       "      <td>11.860587</td>\n",
       "      <td>0.004193</td>\n",
       "      <td>0.029350</td>\n",
       "      <td>0.062893</td>\n",
       "      <td>...</td>\n",
       "      <td>0.040881</td>\n",
       "      <td>0.0</td>\n",
       "      <td>0.0</td>\n",
       "      <td>0.0</td>\n",
       "      <td>0.0</td>\n",
       "      <td>0.001048</td>\n",
       "      <td>0.008386</td>\n",
       "      <td>4.744232</td>\n",
       "      <td>5.633568</td>\n",
       "      <td>19.077487</td>\n",
       "    </tr>\n",
       "    <tr>\n",
       "      <td>std</td>\n",
       "      <td>7.867188</td>\n",
       "      <td>2.997615</td>\n",
       "      <td>5.528700</td>\n",
       "      <td>1.159309</td>\n",
       "      <td>0.947619</td>\n",
       "      <td>1.038874</td>\n",
       "      <td>4.261699</td>\n",
       "      <td>0.102350</td>\n",
       "      <td>0.186586</td>\n",
       "      <td>0.251389</td>\n",
       "      <td>...</td>\n",
       "      <td>0.253839</td>\n",
       "      <td>0.0</td>\n",
       "      <td>0.0</td>\n",
       "      <td>0.0</td>\n",
       "      <td>0.0</td>\n",
       "      <td>0.032376</td>\n",
       "      <td>0.091237</td>\n",
       "      <td>0.185496</td>\n",
       "      <td>2.185273</td>\n",
       "      <td>5.956539</td>\n",
       "    </tr>\n",
       "    <tr>\n",
       "      <td>min</td>\n",
       "      <td>280.250000</td>\n",
       "      <td>3.647059</td>\n",
       "      <td>8.166667</td>\n",
       "      <td>1.250000</td>\n",
       "      <td>1.250000</td>\n",
       "      <td>1.000000</td>\n",
       "      <td>3.000000</td>\n",
       "      <td>0.000000</td>\n",
       "      <td>0.000000</td>\n",
       "      <td>0.000000</td>\n",
       "      <td>...</td>\n",
       "      <td>0.000000</td>\n",
       "      <td>0.0</td>\n",
       "      <td>0.0</td>\n",
       "      <td>0.0</td>\n",
       "      <td>0.0</td>\n",
       "      <td>0.000000</td>\n",
       "      <td>0.000000</td>\n",
       "      <td>4.034188</td>\n",
       "      <td>1.000000</td>\n",
       "      <td>3.000000</td>\n",
       "    </tr>\n",
       "    <tr>\n",
       "      <td>25%</td>\n",
       "      <td>282.500000</td>\n",
       "      <td>10.267262</td>\n",
       "      <td>26.227871</td>\n",
       "      <td>2.333333</td>\n",
       "      <td>2.428571</td>\n",
       "      <td>2.200000</td>\n",
       "      <td>9.000000</td>\n",
       "      <td>0.000000</td>\n",
       "      <td>0.000000</td>\n",
       "      <td>0.000000</td>\n",
       "      <td>...</td>\n",
       "      <td>0.000000</td>\n",
       "      <td>0.0</td>\n",
       "      <td>0.0</td>\n",
       "      <td>0.0</td>\n",
       "      <td>0.0</td>\n",
       "      <td>0.000000</td>\n",
       "      <td>0.000000</td>\n",
       "      <td>4.636317</td>\n",
       "      <td>4.179487</td>\n",
       "      <td>14.000000</td>\n",
       "    </tr>\n",
       "    <tr>\n",
       "      <td>50%</td>\n",
       "      <td>285.750000</td>\n",
       "      <td>11.867962</td>\n",
       "      <td>30.064860</td>\n",
       "      <td>3.000000</td>\n",
       "      <td>3.000000</td>\n",
       "      <td>2.666667</td>\n",
       "      <td>12.000000</td>\n",
       "      <td>0.000000</td>\n",
       "      <td>0.000000</td>\n",
       "      <td>0.000000</td>\n",
       "      <td>...</td>\n",
       "      <td>0.000000</td>\n",
       "      <td>0.0</td>\n",
       "      <td>0.0</td>\n",
       "      <td>0.0</td>\n",
       "      <td>0.0</td>\n",
       "      <td>0.000000</td>\n",
       "      <td>0.000000</td>\n",
       "      <td>4.756903</td>\n",
       "      <td>5.559322</td>\n",
       "      <td>18.000000</td>\n",
       "    </tr>\n",
       "    <tr>\n",
       "      <td>75%</td>\n",
       "      <td>291.500000</td>\n",
       "      <td>13.546247</td>\n",
       "      <td>33.170087</td>\n",
       "      <td>4.000000</td>\n",
       "      <td>3.500000</td>\n",
       "      <td>3.400000</td>\n",
       "      <td>14.000000</td>\n",
       "      <td>0.000000</td>\n",
       "      <td>0.000000</td>\n",
       "      <td>0.000000</td>\n",
       "      <td>...</td>\n",
       "      <td>0.000000</td>\n",
       "      <td>0.0</td>\n",
       "      <td>0.0</td>\n",
       "      <td>0.0</td>\n",
       "      <td>0.0</td>\n",
       "      <td>0.000000</td>\n",
       "      <td>0.000000</td>\n",
       "      <td>4.873213</td>\n",
       "      <td>7.000000</td>\n",
       "      <td>22.000000</td>\n",
       "    </tr>\n",
       "    <tr>\n",
       "      <td>max</td>\n",
       "      <td>337.250000</td>\n",
       "      <td>32.000000</td>\n",
       "      <td>43.000000</td>\n",
       "      <td>6.000000</td>\n",
       "      <td>6.000000</td>\n",
       "      <td>6.000000</td>\n",
       "      <td>32.000000</td>\n",
       "      <td>3.000000</td>\n",
       "      <td>2.000000</td>\n",
       "      <td>2.000000</td>\n",
       "      <td>...</td>\n",
       "      <td>3.000000</td>\n",
       "      <td>0.0</td>\n",
       "      <td>0.0</td>\n",
       "      <td>0.0</td>\n",
       "      <td>0.0</td>\n",
       "      <td>1.000000</td>\n",
       "      <td>1.000000</td>\n",
       "      <td>5.256757</td>\n",
       "      <td>13.333333</td>\n",
       "      <td>37.000000</td>\n",
       "    </tr>\n",
       "  </tbody>\n",
       "</table>\n",
       "<p>8 rows × 172 columns</p>\n",
       "</div>"
      ],
      "text/plain": [
       "       Média_SARESP_geral  Carga_Horaria_Geral  QTDE_ALUNOS  tempo_diretor  \\\n",
       "count          958.000000           866.000000   944.000000     927.000000   \n",
       "mean                  inf            12.016548    29.231385       3.206351   \n",
       "std              7.867188             2.997615     5.528700       1.159309   \n",
       "min            280.250000             3.647059     8.166667       1.250000   \n",
       "25%            282.500000            10.267262    26.227871       2.333333   \n",
       "50%            285.750000            11.867962    30.064860       3.000000   \n",
       "75%            291.500000            13.546247    33.170087       4.000000   \n",
       "max            337.250000            32.000000    43.000000       6.000000   \n",
       "\n",
       "       tempo_coordenador  tempo_vice  SALAS_AULA  SALAS_ED_INF  SALAS_ED_ESP  \\\n",
       "count         954.000000  955.000000  954.000000    954.000000    954.000000   \n",
       "mean            3.100679    2.900896   11.860587      0.004193      0.029350   \n",
       "std             0.947619    1.038874    4.261699      0.102350      0.186586   \n",
       "min             1.250000    1.000000    3.000000      0.000000      0.000000   \n",
       "25%             2.428571    2.200000    9.000000      0.000000      0.000000   \n",
       "50%             3.000000    2.666667   12.000000      0.000000      0.000000   \n",
       "75%             3.500000    3.400000   14.000000      0.000000      0.000000   \n",
       "max             6.000000    6.000000   32.000000      3.000000      2.000000   \n",
       "\n",
       "       SALAS_ED_ART  ...     VARANDA  VIVEIRO  SALA_REORG_NEURO  \\\n",
       "count    954.000000  ...  954.000000    954.0             954.0   \n",
       "mean       0.062893  ...    0.040881      0.0               0.0   \n",
       "std        0.251389  ...    0.253839      0.0               0.0   \n",
       "min        0.000000  ...    0.000000      0.0               0.0   \n",
       "25%        0.000000  ...    0.000000      0.0               0.0   \n",
       "50%        0.000000  ...    0.000000      0.0               0.0   \n",
       "75%        0.000000  ...    0.000000      0.0               0.0   \n",
       "max        2.000000  ...    3.000000      0.0               0.0   \n",
       "\n",
       "       SALA_TERAPIA_OCUP  SALA_SERIGRAFIA  SALA_MARCENARIA    QUIOSQUE  \\\n",
       "count              954.0            954.0       954.000000  954.000000   \n",
       "mean                 0.0              0.0         0.001048    0.008386   \n",
       "std                  0.0              0.0         0.032376    0.091237   \n",
       "min                  0.0              0.0         0.000000    0.000000   \n",
       "25%                  0.0              0.0         0.000000    0.000000   \n",
       "50%                  0.0              0.0         0.000000    0.000000   \n",
       "75%                  0.0              0.0         0.000000    0.000000   \n",
       "max                  0.0              0.0         1.000000    1.000000   \n",
       "\n",
       "       tag_formacao  TOT_DIAS_AUSENCIAS  Num_Disc_semprof  \n",
       "count    954.000000          953.000000        955.000000  \n",
       "mean       4.744232            5.633568         19.077487  \n",
       "std        0.185496            2.185273          5.956539  \n",
       "min        4.034188            1.000000          3.000000  \n",
       "25%        4.636317            4.179487         14.000000  \n",
       "50%        4.756903            5.559322         18.000000  \n",
       "75%        4.873213            7.000000         22.000000  \n",
       "max        5.256757           13.333333         37.000000  \n",
       "\n",
       "[8 rows x 172 columns]"
      ]
     },
     "execution_count": 103,
     "metadata": {},
     "output_type": "execute_result"
    }
   ],
   "source": [
    "df_medio_geral_positivo.describe()"
   ]
  },
  {
   "cell_type": "code",
   "execution_count": 107,
   "metadata": {
    "scrolled": true
   },
   "outputs": [
    {
     "data": {
      "text/html": [
       "<div>\n",
       "<style scoped>\n",
       "    .dataframe tbody tr th:only-of-type {\n",
       "        vertical-align: middle;\n",
       "    }\n",
       "\n",
       "    .dataframe tbody tr th {\n",
       "        vertical-align: top;\n",
       "    }\n",
       "\n",
       "    .dataframe thead th {\n",
       "        text-align: right;\n",
       "    }\n",
       "</style>\n",
       "<table border=\"1\" class=\"dataframe\">\n",
       "  <thead>\n",
       "    <tr style=\"text-align: right;\">\n",
       "      <th></th>\n",
       "      <th>Média_SARESP_geral</th>\n",
       "      <th>Carga_Horaria_Geral</th>\n",
       "      <th>QTDE_ALUNOS</th>\n",
       "      <th>tempo_diretor</th>\n",
       "      <th>tempo_coordenador</th>\n",
       "      <th>tempo_vice</th>\n",
       "      <th>SALAS_AULA</th>\n",
       "      <th>SALAS_ED_INF</th>\n",
       "      <th>SALAS_ED_ESP</th>\n",
       "      <th>SALAS_ED_ART</th>\n",
       "      <th>...</th>\n",
       "      <th>VARANDA</th>\n",
       "      <th>VIVEIRO</th>\n",
       "      <th>SALA_REORG_NEURO</th>\n",
       "      <th>SALA_TERAPIA_OCUP</th>\n",
       "      <th>SALA_SERIGRAFIA</th>\n",
       "      <th>SALA_MARCENARIA</th>\n",
       "      <th>QUIOSQUE</th>\n",
       "      <th>tag_formacao</th>\n",
       "      <th>TOT_DIAS_AUSENCIAS</th>\n",
       "      <th>Num_Disc_semprof</th>\n",
       "    </tr>\n",
       "  </thead>\n",
       "  <tbody>\n",
       "    <tr>\n",
       "      <td>count</td>\n",
       "      <td>2859.000000</td>\n",
       "      <td>2771.000000</td>\n",
       "      <td>2793.000000</td>\n",
       "      <td>2811.000000</td>\n",
       "      <td>2851.000000</td>\n",
       "      <td>2846.000000</td>\n",
       "      <td>2840.000000</td>\n",
       "      <td>2840.000000</td>\n",
       "      <td>2840.000000</td>\n",
       "      <td>2840.000000</td>\n",
       "      <td>...</td>\n",
       "      <td>2840.000000</td>\n",
       "      <td>2840.000000</td>\n",
       "      <td>2840.0</td>\n",
       "      <td>2840.0</td>\n",
       "      <td>2840.0</td>\n",
       "      <td>2840.0</td>\n",
       "      <td>2840.000000</td>\n",
       "      <td>2839.000000</td>\n",
       "      <td>2837.000000</td>\n",
       "      <td>2841.000000</td>\n",
       "    </tr>\n",
       "    <tr>\n",
       "      <td>mean</td>\n",
       "      <td>inf</td>\n",
       "      <td>12.200723</td>\n",
       "      <td>29.831189</td>\n",
       "      <td>2.951152</td>\n",
       "      <td>2.809499</td>\n",
       "      <td>2.668732</td>\n",
       "      <td>12.707042</td>\n",
       "      <td>0.000352</td>\n",
       "      <td>0.030282</td>\n",
       "      <td>0.056338</td>\n",
       "      <td>...</td>\n",
       "      <td>0.016549</td>\n",
       "      <td>0.000352</td>\n",
       "      <td>0.0</td>\n",
       "      <td>0.0</td>\n",
       "      <td>0.0</td>\n",
       "      <td>0.0</td>\n",
       "      <td>0.008099</td>\n",
       "      <td>4.729223</td>\n",
       "      <td>5.937648</td>\n",
       "      <td>19.658219</td>\n",
       "    </tr>\n",
       "    <tr>\n",
       "      <td>std</td>\n",
       "      <td>8.359375</td>\n",
       "      <td>2.517548</td>\n",
       "      <td>4.513339</td>\n",
       "      <td>1.061422</td>\n",
       "      <td>0.812296</td>\n",
       "      <td>0.832515</td>\n",
       "      <td>4.289056</td>\n",
       "      <td>0.018765</td>\n",
       "      <td>0.183308</td>\n",
       "      <td>0.236645</td>\n",
       "      <td>...</td>\n",
       "      <td>0.150404</td>\n",
       "      <td>0.018765</td>\n",
       "      <td>0.0</td>\n",
       "      <td>0.0</td>\n",
       "      <td>0.0</td>\n",
       "      <td>0.0</td>\n",
       "      <td>0.100744</td>\n",
       "      <td>0.181434</td>\n",
       "      <td>1.923074</td>\n",
       "      <td>6.420948</td>\n",
       "    </tr>\n",
       "    <tr>\n",
       "      <td>min</td>\n",
       "      <td>233.750000</td>\n",
       "      <td>2.980000</td>\n",
       "      <td>6.944444</td>\n",
       "      <td>1.000000</td>\n",
       "      <td>1.000000</td>\n",
       "      <td>1.000000</td>\n",
       "      <td>3.000000</td>\n",
       "      <td>0.000000</td>\n",
       "      <td>0.000000</td>\n",
       "      <td>0.000000</td>\n",
       "      <td>...</td>\n",
       "      <td>0.000000</td>\n",
       "      <td>0.000000</td>\n",
       "      <td>0.0</td>\n",
       "      <td>0.0</td>\n",
       "      <td>0.0</td>\n",
       "      <td>0.0</td>\n",
       "      <td>0.000000</td>\n",
       "      <td>3.843750</td>\n",
       "      <td>1.000000</td>\n",
       "      <td>3.000000</td>\n",
       "    </tr>\n",
       "    <tr>\n",
       "      <td>25%</td>\n",
       "      <td>261.250000</td>\n",
       "      <td>10.625834</td>\n",
       "      <td>27.432432</td>\n",
       "      <td>2.200000</td>\n",
       "      <td>2.226496</td>\n",
       "      <td>2.111111</td>\n",
       "      <td>10.000000</td>\n",
       "      <td>0.000000</td>\n",
       "      <td>0.000000</td>\n",
       "      <td>0.000000</td>\n",
       "      <td>...</td>\n",
       "      <td>0.000000</td>\n",
       "      <td>0.000000</td>\n",
       "      <td>0.0</td>\n",
       "      <td>0.0</td>\n",
       "      <td>0.0</td>\n",
       "      <td>0.0</td>\n",
       "      <td>0.000000</td>\n",
       "      <td>4.620690</td>\n",
       "      <td>4.679245</td>\n",
       "      <td>15.000000</td>\n",
       "    </tr>\n",
       "    <tr>\n",
       "      <td>50%</td>\n",
       "      <td>268.000000</td>\n",
       "      <td>12.152091</td>\n",
       "      <td>30.546875</td>\n",
       "      <td>2.666667</td>\n",
       "      <td>2.666667</td>\n",
       "      <td>2.500000</td>\n",
       "      <td>12.000000</td>\n",
       "      <td>0.000000</td>\n",
       "      <td>0.000000</td>\n",
       "      <td>0.000000</td>\n",
       "      <td>...</td>\n",
       "      <td>0.000000</td>\n",
       "      <td>0.000000</td>\n",
       "      <td>0.0</td>\n",
       "      <td>0.0</td>\n",
       "      <td>0.0</td>\n",
       "      <td>0.0</td>\n",
       "      <td>0.000000</td>\n",
       "      <td>4.739583</td>\n",
       "      <td>5.857143</td>\n",
       "      <td>17.000000</td>\n",
       "    </tr>\n",
       "    <tr>\n",
       "      <td>75%</td>\n",
       "      <td>273.750000</td>\n",
       "      <td>13.644753</td>\n",
       "      <td>32.964286</td>\n",
       "      <td>3.450000</td>\n",
       "      <td>3.250000</td>\n",
       "      <td>3.000000</td>\n",
       "      <td>16.000000</td>\n",
       "      <td>0.000000</td>\n",
       "      <td>0.000000</td>\n",
       "      <td>0.000000</td>\n",
       "      <td>...</td>\n",
       "      <td>0.000000</td>\n",
       "      <td>0.000000</td>\n",
       "      <td>0.0</td>\n",
       "      <td>0.0</td>\n",
       "      <td>0.0</td>\n",
       "      <td>0.0</td>\n",
       "      <td>0.000000</td>\n",
       "      <td>4.847826</td>\n",
       "      <td>7.142857</td>\n",
       "      <td>26.000000</td>\n",
       "    </tr>\n",
       "    <tr>\n",
       "      <td>max</td>\n",
       "      <td>280.000000</td>\n",
       "      <td>32.000000</td>\n",
       "      <td>40.178862</td>\n",
       "      <td>6.000000</td>\n",
       "      <td>6.000000</td>\n",
       "      <td>6.000000</td>\n",
       "      <td>35.000000</td>\n",
       "      <td>1.000000</td>\n",
       "      <td>2.000000</td>\n",
       "      <td>2.000000</td>\n",
       "      <td>...</td>\n",
       "      <td>3.000000</td>\n",
       "      <td>1.000000</td>\n",
       "      <td>0.0</td>\n",
       "      <td>0.0</td>\n",
       "      <td>0.0</td>\n",
       "      <td>0.0</td>\n",
       "      <td>2.000000</td>\n",
       "      <td>5.342857</td>\n",
       "      <td>17.058824</td>\n",
       "      <td>38.000000</td>\n",
       "    </tr>\n",
       "  </tbody>\n",
       "</table>\n",
       "<p>8 rows × 172 columns</p>\n",
       "</div>"
      ],
      "text/plain": [
       "       Média_SARESP_geral  Carga_Horaria_Geral  QTDE_ALUNOS  tempo_diretor  \\\n",
       "count         2859.000000          2771.000000  2793.000000    2811.000000   \n",
       "mean                  inf            12.200723    29.831189       2.951152   \n",
       "std              8.359375             2.517548     4.513339       1.061422   \n",
       "min            233.750000             2.980000     6.944444       1.000000   \n",
       "25%            261.250000            10.625834    27.432432       2.200000   \n",
       "50%            268.000000            12.152091    30.546875       2.666667   \n",
       "75%            273.750000            13.644753    32.964286       3.450000   \n",
       "max            280.000000            32.000000    40.178862       6.000000   \n",
       "\n",
       "       tempo_coordenador   tempo_vice   SALAS_AULA  SALAS_ED_INF  \\\n",
       "count        2851.000000  2846.000000  2840.000000   2840.000000   \n",
       "mean            2.809499     2.668732    12.707042      0.000352   \n",
       "std             0.812296     0.832515     4.289056      0.018765   \n",
       "min             1.000000     1.000000     3.000000      0.000000   \n",
       "25%             2.226496     2.111111    10.000000      0.000000   \n",
       "50%             2.666667     2.500000    12.000000      0.000000   \n",
       "75%             3.250000     3.000000    16.000000      0.000000   \n",
       "max             6.000000     6.000000    35.000000      1.000000   \n",
       "\n",
       "       SALAS_ED_ESP  SALAS_ED_ART  ...      VARANDA      VIVEIRO  \\\n",
       "count   2840.000000   2840.000000  ...  2840.000000  2840.000000   \n",
       "mean       0.030282      0.056338  ...     0.016549     0.000352   \n",
       "std        0.183308      0.236645  ...     0.150404     0.018765   \n",
       "min        0.000000      0.000000  ...     0.000000     0.000000   \n",
       "25%        0.000000      0.000000  ...     0.000000     0.000000   \n",
       "50%        0.000000      0.000000  ...     0.000000     0.000000   \n",
       "75%        0.000000      0.000000  ...     0.000000     0.000000   \n",
       "max        2.000000      2.000000  ...     3.000000     1.000000   \n",
       "\n",
       "       SALA_REORG_NEURO  SALA_TERAPIA_OCUP  SALA_SERIGRAFIA  SALA_MARCENARIA  \\\n",
       "count            2840.0             2840.0           2840.0           2840.0   \n",
       "mean                0.0                0.0              0.0              0.0   \n",
       "std                 0.0                0.0              0.0              0.0   \n",
       "min                 0.0                0.0              0.0              0.0   \n",
       "25%                 0.0                0.0              0.0              0.0   \n",
       "50%                 0.0                0.0              0.0              0.0   \n",
       "75%                 0.0                0.0              0.0              0.0   \n",
       "max                 0.0                0.0              0.0              0.0   \n",
       "\n",
       "          QUIOSQUE  tag_formacao  TOT_DIAS_AUSENCIAS  Num_Disc_semprof  \n",
       "count  2840.000000   2839.000000         2837.000000       2841.000000  \n",
       "mean      0.008099      4.729223            5.937648         19.658219  \n",
       "std       0.100744      0.181434            1.923074          6.420948  \n",
       "min       0.000000      3.843750            1.000000          3.000000  \n",
       "25%       0.000000      4.620690            4.679245         15.000000  \n",
       "50%       0.000000      4.739583            5.857143         17.000000  \n",
       "75%       0.000000      4.847826            7.142857         26.000000  \n",
       "max       2.000000      5.342857           17.058824         38.000000  \n",
       "\n",
       "[8 rows x 172 columns]"
      ]
     },
     "execution_count": 107,
     "metadata": {},
     "output_type": "execute_result"
    }
   ],
   "source": [
    "df_medio_geral_negativo.describe()"
   ]
  },
  {
   "cell_type": "code",
   "execution_count": 108,
   "metadata": {},
   "outputs": [
    {
     "name": "stdout",
     "output_type": "stream",
     "text": [
      "Média_SARESP_geral\n",
      "Ttest_indResult(statistic=-0.0, pvalue=1.0)\n",
      "QTDE_ALUNOS\n",
      "Ttest_indResult(statistic=-7.193311902131406, pvalue=7.396663430441281e-13)\n",
      "tempo_coordenador\n",
      "Ttest_indResult(statistic=-6.999474763249988, pvalue=2.957786218654246e-12)\n",
      "tempo_vice\n",
      "Ttest_indResult(statistic=-4.932247856344091, pvalue=8.428590957540587e-07)\n",
      "TOT_SALAS_AULA\n",
      "Ttest_indResult(statistic=7.1033118024632556, pvalue=1.413973995623663e-12)\n",
      "SALAS_AULA\n",
      "Ttest_indResult(statistic=7.170668808459152, pvalue=8.712615462559683e-13)\n",
      "tempo_diretor\n",
      "Ttest_indResult(statistic=-3.8832908879269543, pvalue=0.00010456379176798697)\n",
      "Carga_Horaria_Geral\n",
      "Ttest_indResult(statistic=2.6509959072033213, pvalue=0.008054229335151944)\n",
      "TOT_DIAS_AUSENCIAS\n",
      "Ttest_indResult(statistic=-1.670067897576604, pvalue=0.09497704293696357)\n",
      "tag_formacao\n",
      "Ttest_indResult(statistic=-3.606213718918245, pvalue=0.00031414294295214156)\n",
      "Num_Disc_semprof\n",
      "Ttest_indResult(statistic=1.1578029286483194, pvalue=0.24700729686682818)\n"
     ]
    },
    {
     "name": "stderr",
     "output_type": "stream",
     "text": [
      "C:\\Users\\epfel\\Anaconda3\\lib\\site-packages\\numpy\\core\\fromnumeric.py:86: RuntimeWarning: overflow encountered in reduce\n",
      "  return ufunc.reduce(obj, axis, dtype, out, **passkwargs)\n",
      "C:\\Users\\epfel\\Anaconda3\\lib\\site-packages\\numpy\\core\\_methods.py:107: RuntimeWarning: overflow encountered in reduce\n",
      "  arrmean = umr_sum(arr, axis, dtype, keepdims=True)\n"
     ]
    }
   ],
   "source": [
    "for x in var_resposta:\n",
    "    print(x)\n",
    "    print(sp.stats.ttest_ind(df_fund_geral_negativo.dropna()[x], df_fund_geral_positivo.dropna()[x]))"
   ]
  },
  {
   "cell_type": "code",
   "execution_count": 109,
   "metadata": {},
   "outputs": [
    {
     "name": "stdout",
     "output_type": "stream",
     "text": [
      "Média_SARESP_geral\n",
      "Ttest_indResult(statistic=-0.0, pvalue=1.0)\n",
      "QTDE_ALUNOS\n",
      "Ttest_indResult(statistic=2.844908200843141, pvalue=0.004468090475657491)\n",
      "tempo_coordenador\n",
      "Ttest_indResult(statistic=-8.534459034447378, pvalue=2.0631160257549835e-17)\n",
      "tempo_vice\n",
      "Ttest_indResult(statistic=-5.5069204642933425, pvalue=3.913285996414264e-08)\n",
      "TOT_SALAS_AULA\n",
      "Ttest_indResult(statistic=4.9700136498618495, pvalue=7.014099282313585e-07)\n",
      "SALAS_AULA\n",
      "Ttest_indResult(statistic=4.826984869426803, pvalue=1.4451024022272642e-06)\n",
      "tempo_diretor\n",
      "Ttest_indResult(statistic=-4.9417481512193735, pvalue=8.103573762991948e-07)\n",
      "Carga_Horaria_Geral\n",
      "Ttest_indResult(statistic=1.4079125678086744, pvalue=0.1592452921911248)\n",
      "TOT_DIAS_AUSENCIAS\n",
      "Ttest_indResult(statistic=1.6250462641017271, pvalue=0.10424225221627659)\n",
      "tag_formacao\n",
      "Ttest_indResult(statistic=-2.240416848054297, pvalue=0.02512603672090746)\n",
      "Num_Disc_semprof\n",
      "Ttest_indResult(statistic=2.251943425575272, pvalue=0.02438725801406627)\n"
     ]
    }
   ],
   "source": [
    "for x in var_resposta:\n",
    "    print(x)\n",
    "    print(sp.stats.ttest_ind(df_medio_geral_negativo.dropna()[x], df_medio_geral_positivo.dropna()[x]))"
   ]
  },
  {
   "cell_type": "code",
   "execution_count": 139,
   "metadata": {},
   "outputs": [],
   "source": [
    "var_nao_explicativa_medio = ['TOT_DIAS_AUSENCIAS', 'Carga_Horaria_Geral','Média_SARESP_geral', 'tag_melhores_25%']"
   ]
  },
  {
   "cell_type": "code",
   "execution_count": 140,
   "metadata": {},
   "outputs": [],
   "source": [
    "var_nao_explicativa_fund = ['Num_Disc_semprof', 'TOT_DIAS_AUSENCIAS','Média_SARESP_geral', 'tag_melhores_25%']"
   ]
  },
  {
   "cell_type": "markdown",
   "metadata": {},
   "source": [
    "## Normalizando os dados calculados"
   ]
  },
  {
   "cell_type": "code",
   "execution_count": 110,
   "metadata": {},
   "outputs": [],
   "source": [
    "for x in var_resposta:\n",
    "    df_medio_geral[x] = ((df_medio_geral[x] - df_medio_geral[x].min())/(df_medio_geral[x].max() - df_medio_geral[x].min()))"
   ]
  },
  {
   "cell_type": "code",
   "execution_count": 111,
   "metadata": {},
   "outputs": [],
   "source": [
    "for x in var_resposta:\n",
    "    df_fund_geral[x] = ((df_fund_geral[x] - df_fund_geral[x].min())/(df_fund_geral[x].max() - df_fund_geral[x].min()))"
   ]
  },
  {
   "cell_type": "markdown",
   "metadata": {},
   "source": [
    "## tratando dados missing nos datasets"
   ]
  },
  {
   "cell_type": "code",
   "execution_count": 112,
   "metadata": {},
   "outputs": [],
   "source": [
    "lista_fillna = ['Carga_Horaria_Geral' , 'QTDE_ALUNOS', 'tempo_diretor', 'tempo_coordenador', 'tempo_vice' ,'tag_formacao', 'TOT_DIAS_AUSENCIAS', 'Num_Disc_semprof']\n",
    "for x in lista_fillna:\n",
    "    df_medio_geral[x] = df_medio_geral[x].fillna(df_medio_geral[x].mean())"
   ]
  },
  {
   "cell_type": "code",
   "execution_count": 113,
   "metadata": {},
   "outputs": [],
   "source": [
    "df_medio_geral = df_medio_geral.fillna(0)"
   ]
  },
  {
   "cell_type": "code",
   "execution_count": 114,
   "metadata": {},
   "outputs": [],
   "source": [
    "lista_fillna = ['Carga_Horaria_Geral' , 'QTDE_ALUNOS', 'tempo_diretor', 'tempo_coordenador', 'tempo_vice' ,'tag_formacao', 'TOT_DIAS_AUSENCIAS', 'Num_Disc_semprof']\n",
    "for x in lista_fillna:\n",
    "    df_fund_geral[x] = df_fund_geral[x].fillna(df_fund_geral[x].mean())"
   ]
  },
  {
   "cell_type": "code",
   "execution_count": 115,
   "metadata": {},
   "outputs": [],
   "source": [
    "df_fund_geral = df_fund_geral.fillna(0)"
   ]
  },
  {
   "cell_type": "code",
   "execution_count": 116,
   "metadata": {},
   "outputs": [
    {
     "data": {
      "text/plain": [
       "Média_SARESP_geral     float16\n",
       "tag_melhores_25%        object\n",
       "Carga_Horaria_Geral    float32\n",
       "QTDE_ALUNOS            float64\n",
       "tempo_diretor          float64\n",
       "                        ...   \n",
       "SALA_MARCENARIA        float64\n",
       "QUIOSQUE               float64\n",
       "tag_formacao           float64\n",
       "TOT_DIAS_AUSENCIAS     float64\n",
       "Num_Disc_semprof       float64\n",
       "Length: 173, dtype: object"
      ]
     },
     "execution_count": 116,
     "metadata": {},
     "output_type": "execute_result"
    }
   ],
   "source": [
    "df_medio_geral_negativo.dtypes"
   ]
  },
  {
   "cell_type": "markdown",
   "metadata": {},
   "source": [
    "# Programando o modelo de classificação e verificando Primeiras importâncias"
   ]
  },
  {
   "cell_type": "code",
   "execution_count": 117,
   "metadata": {},
   "outputs": [],
   "source": [
    "def mais_importantes(X, y):\n",
    "        modelo = ExtraTreesClassifier(n_estimators = 200, criterion = 'entropy', verbose = 0)\n",
    "        modelo.fit(X, np.array(y).ravel())\n",
    "        importancias = modelo.feature_importances_\n",
    "        variaveis = np.array(X.columns)\n",
    "        indices = np.argsort(importancias)[::-1]\n",
    "        importancias = importancias[indices]\n",
    "        variaveis = variaveis[indices]\n",
    "        return variaveis, importancias"
   ]
  },
  {
   "cell_type": "code",
   "execution_count": 141,
   "metadata": {},
   "outputs": [
    {
     "data": {
      "text/plain": [
       "(array(['tempo_coordenador', 'QTDE_ALUNOS', 'tempo_vice', 'tempo_diretor',\n",
       "        'TOT_SALAS_AULA', 'SALAS_AULA', 'Num_Disc_semprof', 'tag_formacao',\n",
       "        'ARQUIVO', 'ALMOXARIFADO', 'PATIO_DESCOBERTO',\n",
       "        'DEPOSITO_ALIMENTOS', 'TOT_DESPENSA', 'DEPEND_ADEQ_DEF',\n",
       "        'SALA_ED_FISICA', 'REFEITORIO', 'SANITARIO_ADEQ_DEF', 'DESPENSA',\n",
       "        'TOT_SANITARIO_FUNC', 'SALA_COORD_PEDAG', 'SALA_TV',\n",
       "        'VICEDIRETORIA', 'SALA_RECURSO', 'SANITARIO_FUNC_FEM',\n",
       "        'TOT_LAB_CIENCIA', 'CANTINA', 'QUADRA_DESCOBERTA',\n",
       "        'SANITARIO_FUNC_MASC', 'TOT_QUADRA', 'ZELADORIA', 'COPA',\n",
       "        'SECRETARIA', 'SALA_GREMIO', 'PATIO_COBERTO',\n",
       "        'SALA_PROG_ESC_FAMILIA', 'SANITARIO_ADEQ_DEF_MASC',\n",
       "        'SALA_INSPETOR', 'TOT_SANITARIO_AL', 'SANITARIO_ADEQ_DEF_FEM',\n",
       "        'SANITARIO_AL_MASC', 'LAB_CIENCIA_FISICA_BIOLOGICA',\n",
       "        'SANITARIO_AL_FEM', 'QUADRA_COBERTA', 'TOT_VESTIARIO', 'COZINHA',\n",
       "        'LAB_MULTIUSO', 'SALA_REUNIAO', 'ELEVADOR', 'TOT_SALA_LEITURA',\n",
       "        'LAVANDERIA', 'SALA_ESPERA', 'SALA_LEITURA', 'VESTIARIO_FEM',\n",
       "        'LAB_FISICA', 'SALA_ATENDIMENTO', 'ESTACIONAMENTO', 'LAB_INFO',\n",
       "        'AUDITORIO', 'VESTIARIO_MASC', 'SALA_PROF', 'LAB_CIENCIAS',\n",
       "        'RECEPCAO', 'GABINETE_DENTARIO', 'ANFITEATRO', 'LAB_QUIMICA',\n",
       "        'LAB_BIOLOGIA', 'DIRETORIA', 'VARANDA', 'SALAS_ED_ART', 'TEATRO',\n",
       "        'SALA_ORIENT_ED', 'AREA_SERVICO', 'SALAS_ED_ESP', 'SALA_REFORCO',\n",
       "        'SALA_AUX_COORDENACAO', 'REPROGRAFIA', 'SALA_MUSICA', 'OFICINA',\n",
       "        'GINASIO', 'LAB_LINGUAS', 'PORTARIA', 'SALA_ENTRETENIMENTO',\n",
       "        'BIBLIOTECA', 'QUIOSQUE', 'HORTA', 'CAMPO_FUTEBOL', 'QUADRA_AREIA',\n",
       "        'CASA_MAQUINA', 'LAVATORIO', 'VIDEOTECA', 'SALA_ENERGIA_ELETRICA',\n",
       "        'SALA_RESERV_AGUA', 'SALA_EVENTOS', 'PLAYGROUND', 'SALA_DADOS',\n",
       "        'BRINQUEDOTECA', 'SALA_GINASTICA', 'SALA_DEP_PESSOAL', 'SOLARIO',\n",
       "        'SANITARIO_ADEQ_PRE_MASC', 'SALA_FINANCEIRO',\n",
       "        'SANITARIO_ADEQ_PRE_FEM', 'SALAS_ED_INF', 'CHURRASQUEIRA',\n",
       "        'PISCINA', 'POMAR', 'SANITARIO_ADEQ_PRE', 'ALOJAMENTO_FEM',\n",
       "        'TOT_ALOJAMENTO', 'FRALDARIO', 'SALA_SEGURANCA', 'ENFERMARIA',\n",
       "        'SALA_MARCENARIA', 'SALA_ATEND_PSICOLOGICO', 'SALA_TERAPIA_EDUC',\n",
       "        'QUADRA_GRAMA', 'SALA_MATRICULA', 'DORMITORIO', 'TESOURARIA',\n",
       "        'SALA_PSICOLOGIA', 'SALA_TELEFONIA', 'LAB_DIDATICA', 'ESTUFA',\n",
       "        'SALA_PASTORAL', 'SERVIDOR', 'MINHOCARIO', 'DEPOSITOS_CEREAIS',\n",
       "        'LAB_TURISMO', 'LAB_PSICOPEDAGOGIA', 'VIVEIRO', 'BERCARIO',\n",
       "        'SALA_REORG_NEURO', 'LAB_ESTETICA', 'MANGUEIRA', 'PACKING_HOUSE',\n",
       "        'PSICULTURA', 'SALA_ED_RELIGIOSA', 'SALA_ESTAGIO',\n",
       "        'SALA_INSUMO_AGRICOLA', 'SALA_INSUMO_VETERINARIO', 'LAB_JUNIOR',\n",
       "        'SALA_MARKETING', 'SALA_POS_GRADUACAO', 'SALA_ORDENHA',\n",
       "        'SALA_TERAPIA_OCUP', 'SALA_SERIGRAFIA',\n",
       "        'SALA_PROC_PROD_AGROPECUARIOS', 'SILO', 'LAB_ENFERMAGEM',\n",
       "        'GRAFICA', 'SALA_DIRETOR_TECNICO', 'ALOJAMENTO_MASC',\n",
       "        'GARAGEM_ONIBUS', 'SALA_FISIOTERAPIA', 'SALA_FONOAUDIOLOGIA',\n",
       "        'AMBULATORIO', 'SALA_ASSIST_SOCIAL', 'CONSULTORIO_MEDICO',\n",
       "        'ABATEDOURO', 'BAZAR', 'GALPAO_SUINO', 'CASA_FUNC',\n",
       "        'GALPAO_AVES_CORTE', 'GALPAO_AVES_POSTURA', 'GALPAO_BOVINOS_LEITE',\n",
       "        'GALPAO_CUNICULTURA', 'GALPAO_MAQ_AGRICOLA',\n",
       "        'GALPAO_OVINOS_CAPRINOS', 'LACTARIO'], dtype=object),\n",
       " array([3.24793453e-02, 2.94935509e-02, 2.78171998e-02, 2.73494160e-02,\n",
       "        2.72186766e-02, 2.71016175e-02, 2.61213344e-02, 2.50807610e-02,\n",
       "        1.99578597e-02, 1.94817717e-02, 1.77372639e-02, 1.75628505e-02,\n",
       "        1.71891942e-02, 1.70048048e-02, 1.68802700e-02, 1.68165671e-02,\n",
       "        1.66016989e-02, 1.65680341e-02, 1.60669996e-02, 1.58859032e-02,\n",
       "        1.50799286e-02, 1.50135069e-02, 1.48066468e-02, 1.47562234e-02,\n",
       "        1.46962326e-02, 1.43171708e-02, 1.37006223e-02, 1.35043450e-02,\n",
       "        1.34626027e-02, 1.34486183e-02, 1.31700246e-02, 1.26999246e-02,\n",
       "        1.24246528e-02, 1.18932065e-02, 1.17458910e-02, 1.14078538e-02,\n",
       "        1.11816894e-02, 1.11016722e-02, 1.07092074e-02, 1.06399434e-02,\n",
       "        1.05595421e-02, 1.05020374e-02, 1.01212565e-02, 1.00855710e-02,\n",
       "        1.00509559e-02, 1.00035555e-02, 9.74995247e-03, 9.37530866e-03,\n",
       "        9.31191812e-03, 9.28158496e-03, 9.06801027e-03, 8.94119020e-03,\n",
       "        8.74503132e-03, 8.69346022e-03, 8.67749670e-03, 8.50478580e-03,\n",
       "        7.98360158e-03, 7.94055192e-03, 7.82845005e-03, 7.32244957e-03,\n",
       "        7.29191898e-03, 6.93117822e-03, 6.33350299e-03, 6.01245303e-03,\n",
       "        5.66199815e-03, 5.58721919e-03, 5.57354205e-03, 5.22556159e-03,\n",
       "        5.21065570e-03, 4.71483203e-03, 4.23510472e-03, 4.13051920e-03,\n",
       "        3.86653147e-03, 3.79735977e-03, 3.32457659e-03, 3.19093775e-03,\n",
       "        3.06936171e-03, 3.03970457e-03, 2.76016283e-03, 2.62525617e-03,\n",
       "        2.55374277e-03, 2.53854358e-03, 2.34188469e-03, 1.93640050e-03,\n",
       "        1.85002990e-03, 1.71121090e-03, 1.58700238e-03, 1.51766109e-03,\n",
       "        1.47941643e-03, 1.37320363e-03, 1.36410138e-03, 1.30205637e-03,\n",
       "        1.24059128e-03, 1.22411413e-03, 1.02155460e-03, 9.59000829e-04,\n",
       "        9.44590147e-04, 8.70689367e-04, 7.42075793e-04, 7.19628704e-04,\n",
       "        6.84011487e-04, 6.12795056e-04, 4.56093339e-04, 4.39121369e-04,\n",
       "        3.63629221e-04, 3.26087423e-04, 3.20299279e-04, 2.89940303e-04,\n",
       "        2.70775209e-04, 2.49485119e-04, 2.41520534e-04, 1.98190269e-04,\n",
       "        1.73479602e-04, 1.04221098e-04, 8.66555007e-05, 5.51321190e-05,\n",
       "        4.58308620e-05, 4.18280208e-05, 3.96093445e-05, 3.84689087e-05,\n",
       "        3.48022319e-05, 3.12426152e-05, 3.08046129e-05, 2.74260626e-05,\n",
       "        2.38377992e-05, 1.90044814e-05, 6.85442697e-06, 3.75187368e-06,\n",
       "        3.10071997e-06, 3.33068613e-07, 0.00000000e+00, 0.00000000e+00,\n",
       "        0.00000000e+00, 0.00000000e+00, 0.00000000e+00, 0.00000000e+00,\n",
       "        0.00000000e+00, 0.00000000e+00, 0.00000000e+00, 0.00000000e+00,\n",
       "        0.00000000e+00, 0.00000000e+00, 0.00000000e+00, 0.00000000e+00,\n",
       "        0.00000000e+00, 0.00000000e+00, 0.00000000e+00, 0.00000000e+00,\n",
       "        0.00000000e+00, 0.00000000e+00, 0.00000000e+00, 0.00000000e+00,\n",
       "        0.00000000e+00, 0.00000000e+00, 0.00000000e+00, 0.00000000e+00,\n",
       "        0.00000000e+00, 0.00000000e+00, 0.00000000e+00, 0.00000000e+00,\n",
       "        0.00000000e+00, 0.00000000e+00, 0.00000000e+00, 0.00000000e+00,\n",
       "        0.00000000e+00, 0.00000000e+00, 0.00000000e+00, 0.00000000e+00,\n",
       "        0.00000000e+00]))"
      ]
     },
     "execution_count": 141,
     "metadata": {},
     "output_type": "execute_result"
    }
   ],
   "source": [
    "X_medio_geral = df_medio_geral.drop(var_nao_explicativa_medio, axis=1)\n",
    "y_medio_geral = df_medio_geral['tag_melhores_25%']\n",
    "mais_importantes(X_medio_geral, y_medio_geral)"
   ]
  },
  {
   "cell_type": "code",
   "execution_count": 142,
   "metadata": {},
   "outputs": [
    {
     "data": {
      "text/plain": [
       "(array(['QTDE_ALUNOS', 'tempo_coordenador', 'tempo_vice', 'TOT_SALAS_AULA',\n",
       "        'SALAS_AULA', 'tempo_diretor', 'tag_formacao',\n",
       "        'Carga_Horaria_Geral', 'ALMOXARIFADO', 'ARQUIVO',\n",
       "        'PATIO_DESCOBERTO', 'TOT_DESPENSA', 'DEPOSITO_ALIMENTOS',\n",
       "        'REFEITORIO', 'DEPEND_ADEQ_DEF', 'SALA_ED_FISICA',\n",
       "        'SANITARIO_ADEQ_DEF', 'SALA_RECURSO', 'TOT_SANITARIO_FUNC',\n",
       "        'DESPENSA', 'SANITARIO_FUNC_FEM', 'VICEDIRETORIA',\n",
       "        'SALA_COORD_PEDAG', 'CANTINA', 'TOT_QUADRA', 'PATIO_COBERTO',\n",
       "        'SANITARIO_FUNC_MASC', 'SALA_TV', 'QUADRA_DESCOBERTA', 'COPA',\n",
       "        'ZELADORIA', 'SECRETARIA', 'QUADRA_COBERTA', 'COZINHA',\n",
       "        'TOT_LAB_CIENCIA', 'SALA_LEITURA', 'TOT_SANITARIO_AL',\n",
       "        'SALA_PROG_ESC_FAMILIA', 'TOT_SALA_LEITURA', 'TOT_VESTIARIO',\n",
       "        'SANITARIO_AL_MASC', 'SANITARIO_AL_FEM', 'SALA_ESPERA',\n",
       "        'SALA_GREMIO', 'SANITARIO_ADEQ_DEF_FEM', 'LAB_INFO',\n",
       "        'SANITARIO_ADEQ_DEF_MASC', 'SALA_INSPETOR', 'VESTIARIO_FEM',\n",
       "        'ELEVADOR', 'LAB_CIENCIA_FISICA_BIOLOGICA', 'SALA_REUNIAO',\n",
       "        'LAB_MULTIUSO', 'LAVANDERIA', 'SALA_PROF', 'ESTACIONAMENTO',\n",
       "        'SALA_ATENDIMENTO', 'RECEPCAO', 'VESTIARIO_MASC', 'LAB_CIENCIAS',\n",
       "        'AUDITORIO', 'GABINETE_DENTARIO', 'SALAS_ED_ART', 'DIRETORIA',\n",
       "        'ANFITEATRO', 'SALA_REFORCO', 'LAB_QUIMICA', 'SALAS_ED_ESP',\n",
       "        'SALA_AUX_COORDENACAO', 'SALA_ORIENT_ED', 'BRINQUEDOTECA',\n",
       "        'VARANDA', 'TEATRO', 'AREA_SERVICO', 'PLAYGROUND', 'SALA_MUSICA',\n",
       "        'LAB_BIOLOGIA', 'PORTARIA', 'SALA_ENTRETENIMENTO', 'LAB_FISICA',\n",
       "        'HORTA', 'BIBLIOTECA', 'LAB_LINGUAS', 'QUADRA_AREIA', 'GINASIO',\n",
       "        'OFICINA', 'REPROGRAFIA', 'QUIOSQUE', 'CASA_MAQUINA',\n",
       "        'SALA_RESERV_AGUA', 'CAMPO_FUTEBOL', 'VIDEOTECA', 'LAVATORIO',\n",
       "        'SALA_DEP_PESSOAL', 'SALA_ENERGIA_ELETRICA',\n",
       "        'SANITARIO_ADEQ_PRE_FEM', 'SALA_EVENTOS',\n",
       "        'SANITARIO_ADEQ_PRE_MASC', 'SANITARIO_ADEQ_PRE', 'SOLARIO',\n",
       "        'SALA_FINANCEIRO', 'POMAR', 'SALA_DADOS', 'FRALDARIO',\n",
       "        'SALA_GINASTICA', 'SALA_SEGURANCA', 'PISCINA', 'LAB_DIDATICA',\n",
       "        'SERVIDOR', 'QUADRA_GRAMA', 'TESOURARIA', 'SALA_ATEND_PSICOLOGICO',\n",
       "        'VIVEIRO', 'SALA_PASTORAL', 'SALAS_ED_INF', 'ENFERMARIA',\n",
       "        'ALOJAMENTO_FEM', 'ESTUFA', 'TOT_ALOJAMENTO', 'SALA_MARCENARIA',\n",
       "        'SALA_TELEFONIA', 'SALA_PSICOLOGIA', 'SALA_MATRICULA',\n",
       "        'DORMITORIO', 'DEPOSITOS_CEREAIS', 'CONSULTORIO_MEDICO',\n",
       "        'LAB_PSICOPEDAGOGIA', 'SALA_TERAPIA_EDUC', 'MINHOCARIO',\n",
       "        'SALA_ESTAGIO', 'CHURRASQUEIRA', 'LAB_TURISMO', 'PSICULTURA',\n",
       "        'MANGUEIRA', 'PACKING_HOUSE', 'SALA_SERIGRAFIA',\n",
       "        'SALA_TERAPIA_OCUP', 'SALA_POS_GRADUACAO', 'SALA_REORG_NEURO',\n",
       "        'SALA_PROC_PROD_AGROPECUARIOS', 'SALA_ED_RELIGIOSA',\n",
       "        'SALA_INSUMO_AGRICOLA', 'SALA_INSUMO_VETERINARIO',\n",
       "        'SALA_MARKETING', 'SALA_ORDENHA', 'GRAFICA', 'LAB_ESTETICA',\n",
       "        'CASA_FUNC', 'LACTARIO', 'SALA_DIRETOR_TECNICO', 'GARAGEM_ONIBUS',\n",
       "        'SALA_FISIOTERAPIA', 'SALA_FONOAUDIOLOGIA', 'SALA_ASSIST_SOCIAL',\n",
       "        'ABATEDOURO', 'ALOJAMENTO_MASC', 'BAZAR', 'GALPAO_AVES_CORTE',\n",
       "        'LAB_ENFERMAGEM', 'GALPAO_AVES_POSTURA', 'GALPAO_BOVINOS_LEITE',\n",
       "        'GALPAO_CUNICULTURA', 'GALPAO_MAQ_AGRICOLA',\n",
       "        'GALPAO_OVINOS_CAPRINOS', 'AMBULATORIO', 'GALPAO_SUINO',\n",
       "        'BERCARIO', 'LAB_JUNIOR', 'SILO'], dtype=object),\n",
       " array([4.49115404e-02, 3.07942163e-02, 2.96420665e-02, 2.93010755e-02,\n",
       "        2.89686878e-02, 2.87084415e-02, 2.60656685e-02, 2.56284163e-02,\n",
       "        2.06767250e-02, 1.91022689e-02, 1.83371866e-02, 1.75050758e-02,\n",
       "        1.69423481e-02, 1.67812675e-02, 1.67206739e-02, 1.64956023e-02,\n",
       "        1.64540460e-02, 1.63487557e-02, 1.60665270e-02, 1.59811210e-02,\n",
       "        1.50002606e-02, 1.47324196e-02, 1.44176138e-02, 1.41474522e-02,\n",
       "        1.40062154e-02, 1.38677021e-02, 1.36492296e-02, 1.34146061e-02,\n",
       "        1.32757138e-02, 1.30681549e-02, 1.30079419e-02, 1.23302047e-02,\n",
       "        1.18807041e-02, 1.16855384e-02, 1.16007030e-02, 1.13483173e-02,\n",
       "        1.10607126e-02, 1.10457554e-02, 1.08211054e-02, 1.01601724e-02,\n",
       "        1.01585603e-02, 9.99836301e-03, 9.82426122e-03, 9.73910756e-03,\n",
       "        9.68475051e-03, 9.41744864e-03, 9.41460977e-03, 9.35076032e-03,\n",
       "        9.12841556e-03, 8.99530859e-03, 8.98907987e-03, 8.83278436e-03,\n",
       "        8.80216787e-03, 8.42566049e-03, 8.32294976e-03, 8.32160462e-03,\n",
       "        8.08063606e-03, 7.76312315e-03, 7.48002368e-03, 7.10202195e-03,\n",
       "        6.47385815e-03, 5.94766318e-03, 5.86170038e-03, 5.56546024e-03,\n",
       "        5.24363352e-03, 4.38293320e-03, 4.25849175e-03, 4.10368400e-03,\n",
       "        4.09168192e-03, 3.95770556e-03, 3.60448901e-03, 3.58515079e-03,\n",
       "        3.53296669e-03, 3.40351687e-03, 3.00005511e-03, 2.97098837e-03,\n",
       "        2.86524905e-03, 2.69221935e-03, 2.59745406e-03, 2.26809855e-03,\n",
       "        2.20360814e-03, 2.20131507e-03, 2.10614245e-03, 2.08928097e-03,\n",
       "        1.99584086e-03, 1.99197209e-03, 1.94526268e-03, 1.84586886e-03,\n",
       "        1.67539454e-03, 1.67191352e-03, 1.52912645e-03, 1.23787704e-03,\n",
       "        1.20286055e-03, 1.01691143e-03, 1.00936024e-03, 1.00112897e-03,\n",
       "        9.22641385e-04, 8.17710680e-04, 6.42973930e-04, 6.20728788e-04,\n",
       "        6.19895794e-04, 5.92600557e-04, 5.41814501e-04, 4.65685280e-04,\n",
       "        4.04185958e-04, 3.58923610e-04, 2.81258284e-04, 2.64532237e-04,\n",
       "        2.48814612e-04, 2.30085136e-04, 2.15221664e-04, 2.13910985e-04,\n",
       "        2.11805905e-04, 2.09462333e-04, 1.87473135e-04, 1.72389563e-04,\n",
       "        1.65010774e-04, 1.61717907e-04, 1.50443290e-04, 1.39606235e-04,\n",
       "        6.32176832e-05, 4.41496114e-05, 3.07951160e-05, 2.70549046e-05,\n",
       "        2.00242258e-05, 1.40301327e-05, 1.19255943e-05, 1.00096940e-05,\n",
       "        8.58598320e-06, 7.17458176e-06, 5.23577945e-06, 4.16954622e-06,\n",
       "        0.00000000e+00, 0.00000000e+00, 0.00000000e+00, 0.00000000e+00,\n",
       "        0.00000000e+00, 0.00000000e+00, 0.00000000e+00, 0.00000000e+00,\n",
       "        0.00000000e+00, 0.00000000e+00, 0.00000000e+00, 0.00000000e+00,\n",
       "        0.00000000e+00, 0.00000000e+00, 0.00000000e+00, 0.00000000e+00,\n",
       "        0.00000000e+00, 0.00000000e+00, 0.00000000e+00, 0.00000000e+00,\n",
       "        0.00000000e+00, 0.00000000e+00, 0.00000000e+00, 0.00000000e+00,\n",
       "        0.00000000e+00, 0.00000000e+00, 0.00000000e+00, 0.00000000e+00,\n",
       "        0.00000000e+00, 0.00000000e+00, 0.00000000e+00, 0.00000000e+00,\n",
       "        0.00000000e+00, 0.00000000e+00, 0.00000000e+00, 0.00000000e+00,\n",
       "        0.00000000e+00]))"
      ]
     },
     "execution_count": 142,
     "metadata": {},
     "output_type": "execute_result"
    }
   ],
   "source": [
    "X_fund_geral = df_fund_geral.drop(var_nao_explicativa_fund, axis=1)\n",
    "y_fund_geral = df_fund_geral['tag_melhores_25%']\n",
    "mais_importantes(X_fund_geral, y_fund_geral)"
   ]
  },
  {
   "cell_type": "markdown",
   "metadata": {},
   "source": [
    "## Refazendo a Classificação com as variaveis mais presentes"
   ]
  },
  {
   "cell_type": "code",
   "execution_count": 143,
   "metadata": {},
   "outputs": [],
   "source": [
    "var_maior_entropia_medio = ['QTDE_ALUNOS', 'tempo_coordenador', 'tempo_vice', 'TOT_SALAS_AULA','SALAS_AULA', 'tempo_diretor', 'tag_formacao','Carga_Horaria_Geral', 'ALMOXARIFADO', 'ARQUIVO']\n",
    "var_maior_entropia_fundamental = ['QTDE_ALUNOS', 'tempo_coordenador', 'tempo_vice', 'TOT_SALAS_AULA','SALAS_AULA', 'tempo_diretor', 'tag_formacao','Carga_Horaria_Geral', 'ALMOXARIFADO', 'ARQUIVO']"
   ]
  },
  {
   "cell_type": "code",
   "execution_count": 144,
   "metadata": {},
   "outputs": [
    {
     "data": {
      "text/plain": [
       "(array(['QTDE_ALUNOS', 'tempo_coordenador', 'tag_formacao',\n",
       "        'Carga_Horaria_Geral', 'tempo_vice', 'tempo_diretor',\n",
       "        'TOT_SALAS_AULA', 'SALAS_AULA', 'ALMOXARIFADO', 'ARQUIVO'],\n",
       "       dtype=object),\n",
       " array([0.12172421, 0.1197795 , 0.11528624, 0.11512256, 0.11400277,\n",
       "        0.10697675, 0.08882693, 0.08621284, 0.07245829, 0.0596099 ]))"
      ]
     },
     "execution_count": 144,
     "metadata": {},
     "output_type": "execute_result"
    }
   ],
   "source": [
    "X_medio_geral = df_medio_geral[var_maior_entropia_medio]\n",
    "y_medio_geral = df_medio_geral['tag_melhores_25%']\n",
    "mais_importantes(X_medio_geral, y_medio_geral)"
   ]
  },
  {
   "cell_type": "code",
   "execution_count": 145,
   "metadata": {},
   "outputs": [
    {
     "data": {
      "text/plain": [
       "(array(['QTDE_ALUNOS', 'tag_formacao', 'Carga_Horaria_Geral', 'tempo_vice',\n",
       "        'tempo_coordenador', 'tempo_diretor', 'SALAS_AULA',\n",
       "        'TOT_SALAS_AULA', 'ALMOXARIFADO', 'ARQUIVO'], dtype=object),\n",
       " array([0.15297153, 0.11235714, 0.11223819, 0.10968444, 0.10967111,\n",
       "        0.10339929, 0.08585125, 0.08461533, 0.06907326, 0.06013848]))"
      ]
     },
     "execution_count": 145,
     "metadata": {},
     "output_type": "execute_result"
    }
   ],
   "source": [
    "X_fund_geral = df_fund_geral[var_maior_entropia_fundamental]\n",
    "y_fund_geral = df_fund_geral['tag_melhores_25%']\n",
    "mais_importantes(X_fund_geral, y_fund_geral)"
   ]
  },
  {
   "cell_type": "markdown",
   "metadata": {},
   "source": []
  },
  {
   "cell_type": "code",
   "execution_count": null,
   "metadata": {},
   "outputs": [],
   "source": []
  },
  {
   "cell_type": "code",
   "execution_count": null,
   "metadata": {},
   "outputs": [],
   "source": []
  },
  {
   "cell_type": "code",
   "execution_count": null,
   "metadata": {},
   "outputs": [],
   "source": []
  },
  {
   "cell_type": "code",
   "execution_count": null,
   "metadata": {},
   "outputs": [],
   "source": []
  },
  {
   "cell_type": "code",
   "execution_count": null,
   "metadata": {},
   "outputs": [],
   "source": []
  }
 ],
 "metadata": {
  "kernelspec": {
   "display_name": "Python 3",
   "language": "python",
   "name": "python3"
  },
  "language_info": {
   "codemirror_mode": {
    "name": "ipython",
    "version": 3
   },
   "file_extension": ".py",
   "mimetype": "text/x-python",
   "name": "python",
   "nbconvert_exporter": "python",
   "pygments_lexer": "ipython3",
   "version": "3.7.4"
  }
 },
 "nbformat": 4,
 "nbformat_minor": 2
}
